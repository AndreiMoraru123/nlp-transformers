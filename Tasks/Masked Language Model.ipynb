{
 "cells": [
  {
   "cell_type": "code",
   "execution_count": 1,
   "metadata": {
    "collapsed": true,
    "ExecuteTime": {
     "end_time": "2023-07-18T00:25:52.071602600Z",
     "start_time": "2023-07-18T00:25:47.964250800Z"
    }
   },
   "outputs": [
    {
     "name": "stderr",
     "output_type": "stream",
     "text": [
      "--2023-07-18 03:25:48--  https://lazyprogrammer.me/course_files/nlp/bbc_text_cls.csv\n",
      "Resolving lazyprogrammer.me (lazyprogrammer.me)... 172.67.213.166, 104.21.23.210\n",
      "Connecting to lazyprogrammer.me (lazyprogrammer.me)|172.67.213.166|:443... connected.\n",
      "HTTP request sent, awaiting response... 200 OK\n",
      "Length: 5085081 (4.8M) [text/csv]\n",
      "Saving to: 'bbc_text_cls.csv'\n",
      "\n",
      "     0K .......... .......... .......... .......... ..........  1%  271K 18s\n",
      "    50K .......... .......... .......... .......... ..........  2%  262K 18s\n",
      "   100K .......... .......... .......... .......... ..........  3%  319K 17s\n",
      "   150K .......... .......... .......... .......... ..........  4% 2.96M 13s\n",
      "   200K .......... .......... .......... .......... ..........  5% 3.40M 11s\n",
      "   250K .......... .......... .......... .......... ..........  6%  289K 11s\n",
      "   300K .......... .......... .......... .......... ..........  7% 2.39M 10s\n",
      "   350K .......... .......... .......... .......... ..........  8%  387K 10s\n",
      "   400K .......... .......... .......... .......... ..........  9% 3.95M 9s\n",
      "   450K .......... .......... .......... .......... .......... 10% 5.95M 8s\n",
      "   500K .......... .......... .......... .......... .......... 11% 2.22M 7s\n",
      "   550K .......... .......... .......... .......... .......... 12% 7.76M 7s\n",
      "   600K .......... .......... .......... .......... .......... 13%  438K 7s\n",
      "   650K .......... .......... .......... .......... .......... 14% 3.34M 6s\n",
      "   700K .......... .......... .......... .......... .......... 15% 4.04M 6s\n",
      "   750K .......... .......... .......... .......... .......... 16% 2.39M 6s\n",
      "   800K .......... .......... .......... .......... .......... 17% 5.85M 5s\n",
      "   850K .......... .......... .......... .......... .......... 18% 2.43M 5s\n",
      "   900K .......... .......... .......... .......... .......... 19%  387K 5s\n",
      "   950K .......... .......... .......... .......... .......... 20% 3.14M 5s\n",
      "  1000K .......... .......... .......... .......... .......... 21% 1.77M 5s\n",
      "  1050K .......... .......... .......... .......... .......... 22% 6.39M 5s\n",
      "  1100K .......... .......... .......... .......... .......... 23% 1.77M 4s\n",
      "  1150K .......... .......... .......... .......... .......... 24% 2.38M 4s\n",
      "  1200K .......... .......... .......... .......... .......... 25% 2.66M 4s\n",
      "  1250K .......... .......... .......... .......... .......... 26% 1.91M 4s\n",
      "  1300K .......... .......... .......... .......... .......... 27% 2.75M 4s\n",
      "  1350K .......... .......... .......... .......... .......... 28% 2.90M 4s\n",
      "  1400K .......... .......... .......... .......... .......... 29% 3.09M 4s\n",
      "  1450K .......... .......... .......... .......... .......... 30% 2.20M 3s\n",
      "  1500K .......... .......... .......... .......... .......... 31% 3.51M 3s\n",
      "  1550K .......... .......... .......... .......... .......... 32% 1.56M 3s\n",
      "  1600K .......... .......... .......... .......... .......... 33% 4.47M 3s\n",
      "  1650K .......... .......... .......... .......... .......... 34% 1.68M 3s\n",
      "  1700K .......... .......... .......... .......... .......... 35% 2.89M 3s\n",
      "  1750K .......... .......... .......... .......... .......... 36% 1.69M 3s\n",
      "  1800K .......... .......... .......... .......... .......... 37% 3.52M 3s\n",
      "  1850K .......... .......... .......... .......... .......... 38% 2.33M 3s\n",
      "  1900K .......... .......... .......... .......... .......... 39% 3.09M 3s\n",
      "  1950K .......... .......... .......... .......... .......... 40% 1.22M 3s\n",
      "  2000K .......... .......... .......... .......... .......... 41% 1.86M 2s\n",
      "  2050K .......... .......... .......... .......... .......... 42% 2.32M 2s\n",
      "  2100K .......... .......... .......... .......... .......... 43% 3.43M 2s\n",
      "  2150K .......... .......... .......... .......... .......... 44% 3.09M 2s\n",
      "  2200K .......... .......... .......... .......... .......... 45% 1.70M 2s\n",
      "  2250K .......... .......... .......... .......... .......... 46% 2.39M 2s\n",
      "  2300K .......... .......... .......... .......... .......... 47% 1.72M 2s\n",
      "  2350K .......... .......... .......... .......... .......... 48% 2.50M 2s\n",
      "  2400K .......... .......... .......... .......... .......... 49% 1.90M 2s\n",
      "  2450K .......... .......... .......... .......... .......... 50% 2.25M 2s\n",
      "  2500K .......... .......... .......... .......... .......... 51% 3.85M 2s\n",
      "  2550K .......... .......... .......... .......... .......... 52% 1.90M 2s\n",
      "  2600K .......... .......... .......... .......... .......... 53% 5.15M 2s\n",
      "  2650K .......... .......... .......... .......... .......... 54% 3.30M 2s\n",
      "  2700K .......... .......... .......... .......... .......... 55% 5.64M 2s\n",
      "  2750K .......... .......... .......... .......... .......... 56% 2.76M 2s\n",
      "  2800K .......... .......... .......... .......... .......... 57% 3.39M 1s\n",
      "  2850K .......... .......... .......... .......... .......... 58% 5.87M 1s\n",
      "  2900K .......... .......... .......... .......... .......... 59% 2.57M 1s\n",
      "  2950K .......... .......... .......... .......... .......... 60% 5.47M 1s\n",
      "  3000K .......... .......... .......... .......... .......... 61% 3.55M 1s\n",
      "  3050K .......... .......... .......... .......... .......... 62% 3.40M 1s\n",
      "  3100K .......... .......... .......... .......... .......... 63% 2.52M 1s\n",
      "  3150K .......... .......... .......... .......... .......... 64% 3.40M 1s\n",
      "  3200K .......... .......... .......... .......... .......... 65% 3.57M 1s\n",
      "  3250K .......... .......... .......... .......... .......... 66% 3.23M 1s\n",
      "  3300K .......... .......... .......... .......... .......... 67% 5.39M 1s\n",
      "  3350K .......... .......... .......... .......... .......... 68% 1.34M 1s\n",
      "  3400K .......... .......... .......... .......... .......... 69% 3.69M 1s\n",
      "  3450K .......... .......... .......... .......... .......... 70% 2.34M 1s\n",
      "  3500K .......... .......... .......... .......... .......... 71%  136M 1s\n",
      "  3550K .......... .......... .......... .......... .......... 72% 4.10M 1s\n",
      "  3600K .......... .......... .......... .......... .......... 73% 2.96M 1s\n",
      "  3650K .......... .......... .......... .......... .......... 74% 4.85M 1s\n",
      "  3700K .......... .......... .......... .......... .......... 75% 5.65M 1s\n",
      "  3750K .......... .......... .......... .......... .......... 76% 3.59M 1s\n",
      "  3800K .......... .......... .......... .......... .......... 77% 4.24M 1s\n",
      "  3850K .......... .......... .......... .......... .......... 78% 4.11M 1s\n",
      "  3900K .......... .......... .......... .......... .......... 79% 3.61M 1s\n",
      "  3950K .......... .......... .......... .......... .......... 80% 3.66M 1s\n",
      "  4000K .......... .......... .......... .......... .......... 81% 3.84M 1s\n",
      "  4050K .......... .......... .......... .......... .......... 82% 4.07M 0s\n",
      "  4100K .......... .......... .......... .......... .......... 83% 8.19M 0s\n",
      "  4150K .......... .......... .......... .......... .......... 84% 4.76M 0s\n",
      "  4200K .......... .......... .......... .......... .......... 85% 2.75M 0s\n",
      "  4250K .......... .......... .......... .......... .......... 86% 2.08M 0s\n",
      "  4300K .......... .......... .......... .......... .......... 87% 5.82M 0s\n",
      "  4350K .......... .......... .......... .......... .......... 88% 3.66M 0s\n",
      "  4400K .......... .......... .......... .......... .......... 89% 2.25M 0s\n",
      "  4450K .......... .......... .......... .......... .......... 90% 11.4M 0s\n",
      "  4500K .......... .......... .......... .......... .......... 91% 4.00M 0s\n",
      "  4550K .......... .......... .......... .......... .......... 92% 2.49M 0s\n",
      "  4600K .......... .......... .......... .......... .......... 93% 3.30M 0s\n",
      "  4650K .......... .......... .......... .......... .......... 94% 5.74M 0s\n",
      "  4700K .......... .......... .......... .......... .......... 95% 4.18M 0s\n",
      "  4750K .......... .......... .......... .......... .......... 96% 2.57M 0s\n",
      "  4800K .......... .......... .......... .......... .......... 97% 3.10M 0s\n",
      "  4850K .......... .......... .......... .......... .......... 98% 4.24M 0s\n",
      "  4900K .......... .......... .......... .......... .......... 99% 1.75M 0s\n",
      "  4950K .......... .....                                      100%  238M=2.6s\n",
      "\n",
      "2023-07-18 03:25:52 (1.86 MB/s) - 'bbc_text_cls.csv' saved [5085081/5085081]\n",
      "\n"
     ]
    }
   ],
   "source": [
    "!wget -nc https://lazyprogrammer.me/course_files/nlp/bbc_text_cls.csv"
   ]
  },
  {
   "cell_type": "code",
   "execution_count": 2,
   "outputs": [],
   "source": [
    "import numpy as np\n",
    "import pandas as pd\n",
    "import textwrap\n",
    "from pprint import pprint\n",
    "\n",
    "from transformers import pipeline"
   ],
   "metadata": {
    "collapsed": false,
    "ExecuteTime": {
     "end_time": "2023-07-18T00:27:36.341352400Z",
     "start_time": "2023-07-18T00:27:29.629803400Z"
    }
   }
  },
  {
   "cell_type": "code",
   "execution_count": 3,
   "outputs": [
    {
     "data": {
      "text/plain": "                                                text    labels\n0  Ad sales boost Time Warner profit\\n\\nQuarterly...  business\n1  Dollar gains on Greenspan speech\\n\\nThe dollar...  business\n2  Yukos unit buyer faces loan claim\\n\\nThe owner...  business\n3  High fuel prices hit BA's profits\\n\\nBritish A...  business\n4  Pernod takeover talk lifts Domecq\\n\\nShares in...  business",
      "text/html": "<div>\n<style scoped>\n    .dataframe tbody tr th:only-of-type {\n        vertical-align: middle;\n    }\n\n    .dataframe tbody tr th {\n        vertical-align: top;\n    }\n\n    .dataframe thead th {\n        text-align: right;\n    }\n</style>\n<table border=\"1\" class=\"dataframe\">\n  <thead>\n    <tr style=\"text-align: right;\">\n      <th></th>\n      <th>text</th>\n      <th>labels</th>\n    </tr>\n  </thead>\n  <tbody>\n    <tr>\n      <th>0</th>\n      <td>Ad sales boost Time Warner profit\\n\\nQuarterly...</td>\n      <td>business</td>\n    </tr>\n    <tr>\n      <th>1</th>\n      <td>Dollar gains on Greenspan speech\\n\\nThe dollar...</td>\n      <td>business</td>\n    </tr>\n    <tr>\n      <th>2</th>\n      <td>Yukos unit buyer faces loan claim\\n\\nThe owner...</td>\n      <td>business</td>\n    </tr>\n    <tr>\n      <th>3</th>\n      <td>High fuel prices hit BA's profits\\n\\nBritish A...</td>\n      <td>business</td>\n    </tr>\n    <tr>\n      <th>4</th>\n      <td>Pernod takeover talk lifts Domecq\\n\\nShares in...</td>\n      <td>business</td>\n    </tr>\n  </tbody>\n</table>\n</div>"
     },
     "execution_count": 3,
     "metadata": {},
     "output_type": "execute_result"
    }
   ],
   "source": [
    "df = pd.read_csv('bbc_text_cls.csv')\n",
    "df.head()"
   ],
   "metadata": {
    "collapsed": false,
    "ExecuteTime": {
     "end_time": "2023-07-18T00:27:42.989790400Z",
     "start_time": "2023-07-18T00:27:42.915241100Z"
    }
   }
  },
  {
   "cell_type": "code",
   "execution_count": 4,
   "outputs": [],
   "source": [
    "labels = set(df['labels'])"
   ],
   "metadata": {
    "collapsed": false,
    "ExecuteTime": {
     "end_time": "2023-07-18T00:27:51.570905900Z",
     "start_time": "2023-07-18T00:27:51.534199100Z"
    }
   }
  },
  {
   "cell_type": "code",
   "execution_count": 5,
   "outputs": [],
   "source": [
    "label = 'business'"
   ],
   "metadata": {
    "collapsed": false,
    "ExecuteTime": {
     "end_time": "2023-07-18T00:27:55.755341700Z",
     "start_time": "2023-07-18T00:27:55.750350700Z"
    }
   }
  },
  {
   "cell_type": "code",
   "execution_count": 6,
   "outputs": [
    {
     "data": {
      "text/plain": "0    Ad sales boost Time Warner profit\\n\\nQuarterly...\n1    Dollar gains on Greenspan speech\\n\\nThe dollar...\n2    Yukos unit buyer faces loan claim\\n\\nThe owner...\n3    High fuel prices hit BA's profits\\n\\nBritish A...\n4    Pernod takeover talk lifts Domecq\\n\\nShares in...\nName: text, dtype: object"
     },
     "execution_count": 6,
     "metadata": {},
     "output_type": "execute_result"
    }
   ],
   "source": [
    "texts = df[df['labels'] == label]['text']\n",
    "texts.head()"
   ],
   "metadata": {
    "collapsed": false,
    "ExecuteTime": {
     "end_time": "2023-07-18T00:28:24.601531100Z",
     "start_time": "2023-07-18T00:28:24.567562600Z"
    }
   }
  },
  {
   "cell_type": "code",
   "execution_count": 7,
   "outputs": [],
   "source": [
    "np.random.seed(1234)"
   ],
   "metadata": {
    "collapsed": false,
    "ExecuteTime": {
     "end_time": "2023-07-18T00:28:31.400637700Z",
     "start_time": "2023-07-18T00:28:31.344003100Z"
    }
   }
  },
  {
   "cell_type": "code",
   "execution_count": 8,
   "outputs": [],
   "source": [
    "i = np.random.choice(texts.shape[0])\n",
    "doc = texts.iloc[i]"
   ],
   "metadata": {
    "collapsed": false,
    "ExecuteTime": {
     "end_time": "2023-07-18T00:28:51.834475300Z",
     "start_time": "2023-07-18T00:28:51.806474100Z"
    }
   }
  },
  {
   "cell_type": "code",
   "execution_count": 9,
   "outputs": [
    {
     "data": {
      "text/plain": "'Bombardier chief to leave company\\n\\nShares in train and plane-making giant Bombardier have fallen to a 10-year low following the departure of its chief executive and two members of the board.\\n\\nPaul Tellier, who was also Bombardier\\'s president, left the company amid an ongoing restructuring. Laurent Beaudoin, part of the family that controls the Montreal-based firm, will take on the role of CEO under a newly created management structure. Analysts said the resignations seem to have stemmed from a boardroom dispute. Under Mr Tellier\\'s tenure at the company, which began in January 2003, plans to cut the worldwide workforce of 75,000 by almost a third by 2006 were announced. The firm\\'s snowmobile division and defence services unit were also sold and Bombardier started the development of a new aircraft seating 110 to 135 passengers.\\n\\nMr Tellier had indicated he wanted to stay at the world\\'s top train maker and third largest manufacturer of civil aircraft until the restructuring was complete. But Bombardier has been faced with a declining share price and profits. Earlier this month the firm said it earned $10m (£19.2m) in the third quarter, down from a profit of $133m a year ago. \"I understand the board\\'s concern that I would not be there for the long-term and the need to develop and execute strategies, and the need to reshape the management structure at this time,\" Mr Tellier said in a statement on Monday. Bombardier said restructuring plans drawn up by Mr Tellier\\'s would continue to be implemented. Shares in Bombardier lost 65 Canadian cents or 25% on the news to 1.90 Canadian dollars before rallying to 2.20 Canadian dollars.'"
     },
     "execution_count": 9,
     "metadata": {},
     "output_type": "execute_result"
    }
   ],
   "source": [
    "doc"
   ],
   "metadata": {
    "collapsed": false,
    "ExecuteTime": {
     "end_time": "2023-07-18T00:30:06.874031900Z",
     "start_time": "2023-07-18T00:30:06.805462800Z"
    }
   }
  },
  {
   "cell_type": "code",
   "execution_count": 10,
   "outputs": [
    {
     "name": "stdout",
     "output_type": "stream",
     "text": [
      "Bombardier chief to leave company\n",
      "\n",
      "Shares in train and plane-making\n",
      "giant Bombardier have fallen to a 10-year low following the departure\n",
      "of its chief executive and two members of the board.\n",
      "\n",
      "Paul Tellier,\n",
      "who was also Bombardier's president, left the company amid an ongoing\n",
      "restructuring.  Laurent Beaudoin, part of the family that controls the\n",
      "Montreal-based firm, will take on the role of CEO under a newly\n",
      "created management structure.  Analysts said the resignations seem to\n",
      "have stemmed from a boardroom dispute.  Under Mr Tellier's tenure at\n",
      "the company, which began in January 2003, plans to cut the worldwide\n",
      "workforce of 75,000 by almost a third by 2006 were announced.  The\n",
      "firm's snowmobile division and defence services unit were also sold\n",
      "and Bombardier started the development of a new aircraft seating 110\n",
      "to 135 passengers.\n",
      "\n",
      "Mr Tellier had indicated he wanted to stay at the\n",
      "world's top train maker and third largest manufacturer of civil\n",
      "aircraft until the restructuring was complete.  But Bombardier has\n",
      "been faced with a declining share price and profits.  Earlier this\n",
      "month the firm said it earned $10m (£19.2m) in the third quarter, down\n",
      "from a profit of $133m a year ago.  \"I understand the board's concern\n",
      "that I would not be there for the long-term and the need to develop\n",
      "and execute strategies, and the need to reshape the management\n",
      "structure at this time,\" Mr Tellier said in a statement on Monday.\n",
      "Bombardier said restructuring plans drawn up by Mr Tellier's would\n",
      "continue to be implemented.  Shares in Bombardier lost 65 Canadian\n",
      "cents or 25% on the news to 1.90 Canadian dollars before rallying to\n",
      "2.20 Canadian dollars.\n"
     ]
    }
   ],
   "source": [
    "print(textwrap.fill(doc, replace_whitespace=False, fix_sentence_endings=True))"
   ],
   "metadata": {
    "collapsed": false,
    "ExecuteTime": {
     "end_time": "2023-07-18T00:30:34.138273100Z",
     "start_time": "2023-07-18T00:30:34.068081300Z"
    }
   }
  },
  {
   "cell_type": "code",
   "execution_count": 11,
   "outputs": [
    {
     "name": "stderr",
     "output_type": "stream",
     "text": [
      "No model was supplied, defaulted to distilroberta-base and revision ec58a5b (https://huggingface.co/distilroberta-base).\n",
      "Using a pipeline without specifying a model name and revision in production is not recommended.\n"
     ]
    },
    {
     "data": {
      "text/plain": "Downloading (…)lve/main/config.json:   0%|          | 0.00/480 [00:00<?, ?B/s]",
      "application/vnd.jupyter.widget-view+json": {
       "version_major": 2,
       "version_minor": 0,
       "model_id": "e61ff88ede294a54825fe276796a35a8"
      }
     },
     "metadata": {},
     "output_type": "display_data"
    },
    {
     "name": "stderr",
     "output_type": "stream",
     "text": [
      "C:\\Users\\Andrei\\anaconda3\\envs\\torchenv\\lib\\site-packages\\huggingface_hub\\file_download.py:133: UserWarning: `huggingface_hub` cache-system uses symlinks by default to efficiently store duplicated files but your machine does not support them in C:\\Users\\Andrei\\.cache\\huggingface\\hub. Caching files will still work but in a degraded version that might require more space on your disk. This warning can be disabled by setting the `HF_HUB_DISABLE_SYMLINKS_WARNING` environment variable. For more details, see https://huggingface.co/docs/huggingface_hub/how-to-cache#limitations.\n",
      "To support symlinks on Windows, you either need to activate Developer Mode or to run Python as an administrator. In order to see activate developer mode, see this article: https://docs.microsoft.com/en-us/windows/apps/get-started/enable-your-device-for-development\n",
      "  warnings.warn(message)\n"
     ]
    },
    {
     "data": {
      "text/plain": "Downloading pytorch_model.bin:   0%|          | 0.00/331M [00:00<?, ?B/s]",
      "application/vnd.jupyter.widget-view+json": {
       "version_major": 2,
       "version_minor": 0,
       "model_id": "540029bc33a44db2bacc7b391764def0"
      }
     },
     "metadata": {},
     "output_type": "display_data"
    },
    {
     "data": {
      "text/plain": "Downloading (…)olve/main/vocab.json:   0%|          | 0.00/899k [00:00<?, ?B/s]",
      "application/vnd.jupyter.widget-view+json": {
       "version_major": 2,
       "version_minor": 0,
       "model_id": "0763db444e5d4dadadf1f95f1edf98e6"
      }
     },
     "metadata": {},
     "output_type": "display_data"
    },
    {
     "data": {
      "text/plain": "Downloading (…)olve/main/merges.txt:   0%|          | 0.00/456k [00:00<?, ?B/s]",
      "application/vnd.jupyter.widget-view+json": {
       "version_major": 2,
       "version_minor": 0,
       "model_id": "8e239e29428247bd8142738ad0963e0a"
      }
     },
     "metadata": {},
     "output_type": "display_data"
    },
    {
     "data": {
      "text/plain": "Downloading (…)/main/tokenizer.json:   0%|          | 0.00/1.36M [00:00<?, ?B/s]",
      "application/vnd.jupyter.widget-view+json": {
       "version_major": 2,
       "version_minor": 0,
       "model_id": "c4d896cf089e482f92ae7927554431ed"
      }
     },
     "metadata": {},
     "output_type": "display_data"
    }
   ],
   "source": [
    "mlm = pipeline('fill-mask')"
   ],
   "metadata": {
    "collapsed": false,
    "ExecuteTime": {
     "end_time": "2023-07-18T00:32:54.396118100Z",
     "start_time": "2023-07-18T00:30:50.218527100Z"
    }
   }
  },
  {
   "cell_type": "code",
   "execution_count": 12,
   "outputs": [
    {
     "data": {
      "text/plain": "[{'score': 0.06950823217630386,\n  'token': 633,\n  'token_str': ' job',\n  'sequence': 'Bombardier chief to leave job'},\n {'score': 0.06693063676357269,\n  'token': 1470,\n  'token_str': ' France',\n  'sequence': 'Bombardier chief to leave France'},\n {'score': 0.05273524299263954,\n  'token': 558,\n  'token_str': ' office',\n  'sequence': 'Bombardier chief to leave office'},\n {'score': 0.025822941213846207,\n  'token': 2201,\n  'token_str': ' Paris',\n  'sequence': 'Bombardier chief to leave Paris'},\n {'score': 0.02136850170791149,\n  'token': 896,\n  'token_str': ' Canada',\n  'sequence': 'Bombardier chief to leave Canada'}]"
     },
     "execution_count": 12,
     "metadata": {},
     "output_type": "execute_result"
    }
   ],
   "source": [
    "mlm('Bombardier chief to leave <mask>')"
   ],
   "metadata": {
    "collapsed": false,
    "ExecuteTime": {
     "end_time": "2023-07-18T00:34:10.900641400Z",
     "start_time": "2023-07-18T00:34:10.808907400Z"
    }
   }
  },
  {
   "cell_type": "code",
   "execution_count": 14,
   "outputs": [
    {
     "data": {
      "text/plain": "[{'score': 0.09694147855043411,\n  'token': 23602,\n  'token_str': ' fox',\n  'sequence': 'The quick brown fox jumps over the lazy dog'},\n {'score': 0.09427034854888916,\n  'token': 324,\n  'token_str': 'ie',\n  'sequence': 'The quick brownie jumps over the lazy dog'},\n {'score': 0.05785511061549187,\n  'token': 26882,\n  'token_str': ' Labrador',\n  'sequence': 'The quick brown Labrador jumps over the lazy dog'},\n {'score': 0.05059647187590599,\n  'token': 4758,\n  'token_str': ' cat',\n  'sequence': 'The quick brown cat jumps over the lazy dog'},\n {'score': 0.03869382664561272,\n  'token': 13182,\n  'token_str': ' buck',\n  'sequence': 'The quick brown buck jumps over the lazy dog'}]"
     },
     "execution_count": 14,
     "metadata": {},
     "output_type": "execute_result"
    }
   ],
   "source": [
    "mlm('The quick brown <mask> jumps over the lazy dog')"
   ],
   "metadata": {
    "collapsed": false,
    "ExecuteTime": {
     "end_time": "2023-07-18T00:34:58.136199500Z",
     "start_time": "2023-07-18T00:34:58.051868400Z"
    }
   }
  },
  {
   "cell_type": "code",
   "execution_count": null,
   "outputs": [],
   "source": [],
   "metadata": {
    "collapsed": false
   }
  }
 ],
 "metadata": {
  "kernelspec": {
   "display_name": "Python 3",
   "language": "python",
   "name": "python3"
  },
  "language_info": {
   "codemirror_mode": {
    "name": "ipython",
    "version": 2
   },
   "file_extension": ".py",
   "mimetype": "text/x-python",
   "name": "python",
   "nbconvert_exporter": "python",
   "pygments_lexer": "ipython2",
   "version": "2.7.6"
  }
 },
 "nbformat": 4,
 "nbformat_minor": 0
}
