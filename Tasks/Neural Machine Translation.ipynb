{
 "cells": [
  {
   "cell_type": "code",
   "execution_count": 1,
   "metadata": {
    "collapsed": true,
    "ExecuteTime": {
     "end_time": "2023-07-18T03:26:02.097541800Z",
     "start_time": "2023-07-18T03:26:00.103665800Z"
    }
   },
   "outputs": [
    {
     "name": "stderr",
     "output_type": "stream",
     "text": [
      "--2023-07-18 06:26:00--  http://storage.googleapis.com/download.tensorflow.org/data/spa-eng.zip\n",
      "Resolving storage.googleapis.com (storage.googleapis.com)... 142.251.39.48, 142.251.39.16, 142.250.201.208, ...\n",
      "Connecting to storage.googleapis.com (storage.googleapis.com)|142.251.39.48|:80... connected.\n",
      "HTTP request sent, awaiting response... 200 OK\n",
      "Length: 2638744 (2.5M) [application/zip]\n",
      "Saving to: 'spa-eng.zip'\n",
      "\n",
      "     0K .......... .......... .......... .......... ..........  1%  250K 10s\n",
      "    50K .......... .......... .......... .......... ..........  3%  372K 8s\n",
      "   100K .......... .......... .......... .......... ..........  5% 1.02M 6s\n",
      "   150K .......... .......... .......... .......... ..........  7%  958K 5s\n",
      "   200K .......... .......... .......... .......... ..........  9% 1.15M 4s\n",
      "   250K .......... .......... .......... .......... .......... 11% 1.57M 4s\n",
      "   300K .......... .......... .......... .......... .......... 13% 1.55M 3s\n",
      "   350K .......... .......... .......... .......... .......... 15% 7.72M 3s\n",
      "   400K .......... .......... .......... .......... .......... 17% 2.46M 3s\n",
      "   450K .......... .......... .......... .......... .......... 19% 1.54M 2s\n",
      "   500K .......... .......... .......... .......... .......... 21% 1.23M 2s\n",
      "   550K .......... .......... .......... .......... .......... 23% 2.02M 2s\n",
      "   600K .......... .......... .......... .......... .......... 25% 9.67M 2s\n",
      "   650K .......... .......... .......... .......... .......... 27% 4.78M 2s\n",
      "   700K .......... .......... .......... .......... .......... 29% 2.10M 2s\n",
      "   750K .......... .......... .......... .......... .......... 31% 1.65M 2s\n",
      "   800K .......... .......... .......... .......... .......... 32% 5.15M 2s\n",
      "   850K .......... .......... .......... .......... .......... 34% 4.45M 1s\n",
      "   900K .......... .......... .......... .......... .......... 36% 2.67M 1s\n",
      "   950K .......... .......... .......... .......... .......... 38% 3.20M 1s\n",
      "  1000K .......... .......... .......... .......... .......... 40% 1.96M 1s\n",
      "  1050K .......... .......... .......... .......... .......... 42% 3.89M 1s\n",
      "  1100K .......... .......... .......... .......... .......... 44% 2.65M 1s\n",
      "  1150K .......... .......... .......... .......... .......... 46% 7.56M 1s\n",
      "  1200K .......... .......... .......... .......... .......... 48% 1.78M 1s\n",
      "  1250K .......... .......... .......... .......... .......... 50% 4.62M 1s\n",
      "  1300K .......... .......... .......... .......... .......... 52% 2.57M 1s\n",
      "  1350K .......... .......... .......... .......... .......... 54% 1.46M 1s\n",
      "  1400K .......... .......... .......... .......... .......... 56% 2.93M 1s\n",
      "  1450K .......... .......... .......... .......... .......... 58% 3.48M 1s\n",
      "  1500K .......... .......... .......... .......... .......... 60% 2.44M 1s\n",
      "  1550K .......... .......... .......... .......... .......... 62% 3.69M 1s\n",
      "  1600K .......... .......... .......... .......... .......... 64% 2.95M 1s\n",
      "  1650K .......... .......... .......... .......... .......... 65% 2.49M 1s\n",
      "  1700K .......... .......... .......... .......... .......... 67% 3.77M 0s\n",
      "  1750K .......... .......... .......... .......... .......... 69% 2.95M 0s\n",
      "  1800K .......... .......... .......... .......... .......... 71% 1.95M 0s\n",
      "  1850K .......... .......... .......... .......... .......... 73% 2.28M 0s\n",
      "  1900K .......... .......... .......... .......... .......... 75% 4.13M 0s\n",
      "  1950K .......... .......... .......... .......... .......... 77% 4.84M 0s\n",
      "  2000K .......... .......... .......... .......... .......... 79% 3.39M 0s\n",
      "  2050K .......... .......... .......... .......... .......... 81% 2.27M 0s\n",
      "  2100K .......... .......... .......... .......... .......... 83% 3.72M 0s\n",
      "  2150K .......... .......... .......... .......... .......... 85% 2.96M 0s\n",
      "  2200K .......... .......... .......... .......... .......... 87% 3.27M 0s\n",
      "  2250K .......... .......... .......... .......... .......... 89% 2.26M 0s\n",
      "  2300K .......... .......... .......... .......... .......... 91% 2.68M 0s\n",
      "  2350K .......... .......... .......... .......... .......... 93% 3.93M 0s\n",
      "  2400K .......... .......... .......... .......... .......... 95% 2.76M 0s\n",
      "  2450K .......... .......... .......... .......... .......... 97% 2.95M 0s\n",
      "  2500K .......... .......... .......... .......... .......... 98% 3.31M 0s\n",
      "  2550K .......... .......... ......                          100% 6.60M=1.3s\n",
      "\n",
      "2023-07-18 06:26:02 (1.91 MB/s) - 'spa-eng.zip' saved [2638744/2638744]\n",
      "\n"
     ]
    }
   ],
   "source": [
    "!wget -nc http://storage.googleapis.com/download.tensorflow.org/data/spa-eng.zip"
   ]
  },
  {
   "cell_type": "code",
   "execution_count": 3,
   "outputs": [],
   "source": [
    "!unzip -nq spa-eng.zip"
   ],
   "metadata": {
    "collapsed": false,
    "ExecuteTime": {
     "end_time": "2023-07-18T03:26:41.226217300Z",
     "start_time": "2023-07-18T03:26:41.059339300Z"
    }
   }
  },
  {
   "cell_type": "code",
   "execution_count": 4,
   "outputs": [
    {
     "name": "stdout",
     "output_type": "stream",
     "text": [
      "_about.txt\n",
      "spa.txt\n"
     ]
    }
   ],
   "source": [
    "!ls spa-eng"
   ],
   "metadata": {
    "collapsed": false,
    "ExecuteTime": {
     "end_time": "2023-07-18T03:26:53.820716900Z",
     "start_time": "2023-07-18T03:26:53.739961100Z"
    }
   }
  },
  {
   "cell_type": "code",
   "execution_count": 5,
   "outputs": [
    {
     "name": "stdout",
     "output_type": "stream",
     "text": [
      "Go.\tVe.\n",
      "Go.\tVete.\n",
      "Go.\tVaya.\n",
      "Go.\tVÃ¡yase.\n",
      "Hi.\tHola.\n",
      "Run!\tÂ¡Corre!\n",
      "Run.\tCorred.\n",
      "Who?\tÂ¿QuiÃ©n?\n",
      "Fire!\tÂ¡Fuego!\n",
      "Fire!\tÂ¡Incendio!\n"
     ]
    }
   ],
   "source": [
    "!head spa-eng/spa.txt"
   ],
   "metadata": {
    "collapsed": false,
    "ExecuteTime": {
     "end_time": "2023-07-18T03:26:55.820888100Z",
     "start_time": "2023-07-18T03:26:55.767306700Z"
    }
   }
  },
  {
   "cell_type": "code",
   "execution_count": 1,
   "outputs": [],
   "source": [
    "eng2spa = {}\n",
    "for line in open('spa-eng/spa.txt', encoding='utf-8'):\n",
    "    line = line.rstrip()\n",
    "    eng, spa = line.split(\"\\t\")\n",
    "    if eng not in eng2spa:\n",
    "        eng2spa[eng] = []\n",
    "    eng2spa[eng].append(spa)"
   ],
   "metadata": {
    "collapsed": false,
    "ExecuteTime": {
     "end_time": "2023-07-18T03:43:52.592311300Z",
     "start_time": "2023-07-18T03:43:52.410203800Z"
    }
   }
  },
  {
   "cell_type": "code",
   "execution_count": 2,
   "outputs": [
    {
     "data": {
      "text/plain": "{'Go.': ['Ve.', 'Vete.', 'Vaya.', 'Váyase.'],\n 'Hi.': ['Hola.'],\n 'Run!': ['¡Corre!'],\n 'Run.': ['Corred.'],\n 'Who?': ['¿Quién?'],\n 'Fire!': ['¡Fuego!', '¡Incendio!', '¡Disparad!'],\n 'Help!': ['¡Ayuda!', '¡Socorro! ¡Auxilio!', '¡Auxilio!'],\n 'Jump!': ['¡Salta!'],\n 'Jump.': ['Salte.'],\n 'Stop!': ['¡Parad!', '¡Para!', '¡Pare!'],\n 'Wait!': ['¡Espera!'],\n 'Wait.': ['Esperen.'],\n 'Go on.': ['Continúa.', 'Continúe.'],\n 'Hello!': ['Hola.'],\n 'I ran.': ['Corrí.', 'Corría.'],\n 'I try.': ['Lo intento.'],\n 'I won!': ['¡He ganado!'],\n 'Oh no!': ['¡Oh, no!'],\n 'Relax.': ['Tomátelo con soda.'],\n 'Smile.': ['Sonríe.'],\n 'Attack!': ['¡Al ataque!', '¡Atacad!'],\n 'Get up.': ['Levanta.'],\n 'Go now.': ['Ve ahora mismo.'],\n 'Got it!': ['¡Lo tengo!'],\n 'Got it?': ['¿Lo pillas?', '¿Entendiste?'],\n 'He ran.': ['Él corrió.'],\n 'Hop in.': ['Métete adentro.'],\n 'Hug me.': ['Abrázame.'],\n 'I fell.': ['Me caí.'],\n 'I know.': ['Yo lo sé.'],\n 'I left.': ['Salí.'],\n 'I lied.': ['Mentí.'],\n 'I lost.': ['Perdí.'],\n 'I quit.': ['Dimito.', 'Renuncié.'],\n 'I work.': ['Estoy trabajando.'],\n \"I'm 19.\": ['Tengo diecinueve.'],\n \"I'm up.\": ['Estoy levantado.'],\n 'Listen.': ['Escucha.', 'Escuche.', 'Escuchen.'],\n 'No way!': ['¡No puede ser!',\n  'De ninguna manera.',\n  '¡De ninguna manera!',\n  '¡Imposible!',\n  '¡De ningún modo!',\n  '¡De eso nada!',\n  '¡Ni cagando!',\n  '¡Mangos!',\n  '¡Minga!',\n  '¡Ni en pedo!'],\n 'Really?': ['¿En serio?', '¿La verdad?'],\n 'Thanks.': ['¡Gracias!', 'Gracias.'],\n 'Try it.': ['Pruébalo.'],\n 'We try.': ['Lo procuramos.'],\n 'We won.': ['Ganamos.'],\n 'Why me?': ['¿Por qué yo?'],\n 'Ask Tom.': ['Pregúntale a Tom.'],\n 'Awesome!': ['¡Órale!'],\n 'Be calm.': ['Mantente en calma.'],\n 'Be cool.': ['Estate tranquilo.'],\n 'Be fair.': ['Sé justo.'],\n 'Be kind.': ['Sean gentiles.'],\n 'Be nice.': ['Sé agradable.'],\n 'Beat it.': ['Pírate.'],\n 'Call me.': ['Llamame.', 'Llamadme.', 'Llámame.'],\n 'Call us.': ['Llámanos.'],\n 'Come in.': ['Entre.', 'Pase.', '¡Entren!'],\n 'Come on!': ['¡Órale!'],\n 'Come on.': ['Ándale.', '¡Órale!'],\n 'Drop it!': ['Suéltalo.'],\n 'Get Tom.': ['Agarra a Tom.'],\n 'Get out!': ['Bájate.'],\n 'Get out.': ['Salte.', 'Sal.', 'Salí.', 'Salid.', 'Salgan.'],\n 'Go away!': ['¡Vete de aquí!',\n  '¡Lárgate!',\n  '¡Salga de aquí!',\n  '¡Largo!',\n  '¡Vete ya!',\n  '¡Órale!',\n  '¡A la calle!'],\n 'Go away.': ['¡Vete de aquí!',\n  '¡Lárgate!',\n  '¡Largo!',\n  '¡Vete ya!',\n  '¡Órale!',\n  'Lárguese.',\n  'Váyase.'],\n 'Go home.': ['Vete a casa.'],\n 'Go slow.': ['Vaya despacio.'],\n 'Goodbye!': ['¡Hasta luego!', 'Hasta la vista.', '¡Chau!'],\n 'Hang on!': ['¡Espera!', '¡Espera un momento!', '¡Un segundo!'],\n 'Hang on.': ['Agarra fuertemente.'],\n 'He came.': ['Él vino.'],\n 'He quit.': ['Él renunció.'],\n 'Help me!': ['Ayúdame.'],\n 'Help me.': ['Ayúdame.', 'Échame una mano.', 'Ayudame.'],\n 'Help us.': ['Ayúdanos.'],\n 'Hit Tom.': ['Golpea a Tom.'],\n 'Hold it!': ['Espera.'],\n 'Hold on.': ['Resista.', 'Resiste.', 'Agarra fuertemente.'],\n 'Hug Tom.': ['Abraza a Tom.'],\n 'I agree.': ['Estoy de acuerdo.', 'De acuerdo.'],\n 'I bowed.': ['Me incliné.'],\n 'I moved.': ['Me he mudado.',\n  'Me mudé.',\n  'Me trasladé.',\n  'Me he trasladado.'],\n 'I slept.': ['Dormí.'],\n 'I tried.': ['Lo intenté.'],\n \"I'll go.\": ['Iré.'],\n \"I'm Tom.\": ['Soy Tom.'],\n \"I'm fat.\": ['Estoy gordo.', 'Soy gorda.'],\n \"I'm fit.\": ['Estoy en forma.'],\n \"I'm hit!\": ['Estoy afectado.'],\n \"I'm old.\": ['Soy viejo.'],\n \"I'm shy.\": ['Soy tímido.'],\n \"I'm wet.\": ['Estoy mojada.'],\n \"It's OK.\": ['Está bien.'],\n \"It's me!\": ['Soy yo.'],\n \"It's me.\": ['Soy yo.'],\n 'Join us.': ['Únete a nosotros.', 'Sé parte nuestra.'],\n 'Keep it.': ['Guárdalo.'],\n 'Me, too.': ['Yo, también.'],\n 'Open up.': ['Abre.'],\n 'Perfect!': ['¡Perfecto!'],\n 'See you.': ['Nos vemos.'],\n 'Show me.': ['Muéstramelo.', 'Enséñamelo.', 'Mostrame.'],\n 'Shut up!': ['¡Cierra la boca!', '¡Cerrá el pico!'],\n 'Skip it.': ['Sáltatelo.'],\n 'So long.': ['Hasta la vista.', 'Hasta luego.'],\n 'Stop it.': ['Páralo.', 'Deténlo.'],\n 'Take it.': ['Cógelo.'],\n 'Tell me.': ['Decime.'],\n 'Tom ate.': ['Tom comió.'],\n 'Tom ran.': ['Tom corrió.'],\n 'Tom won.': ['Tom ganó.'],\n 'Wait up.': ['Espérame despierto.'],\n 'Wake up!': ['¡Despierta!', '¡Despiértate!', '¡Despertate!'],\n 'Wake up.': ['Despierta.'],\n 'Wash up.': ['Lávate las manos.'],\n 'We care.': ['Nos preocupamos.'],\n 'We know.': ['Lo sabemos.'],\n 'We lost.': ['Perdimos.'],\n 'Welcome.': ['Bienvenidos.', 'Bienvenidas.'],\n 'Who ate?': ['¿Quién comió?'],\n 'Who ran?': ['¿Quién corría?', '¿Quién corrió?'],\n 'Who won?': ['¿Quién ganó?', '¿Quién ha ganado?'],\n 'Why not?': ['¿Por qué no?'],\n 'You run.': ['Corre.'],\n 'You won.': ['Has ganado.'],\n 'Am I fat?': ['¿Estoy gordo?'],\n 'Ask them.': ['Preguntales.', 'Pregúntales.'],\n 'Back off!': ['Aparta.'],\n 'Back off.': ['Apártate.'],\n 'Be a man.': ['Sé un hombre.'],\n 'Be brave.': ['Sé fuerte.'],\n 'Be brief.': ['Sé breve.', 'Sea breve.', 'Sean breves.'],\n 'Be quiet.': ['Estate quieto.'],\n 'Be still.': ['No te muevas.'],\n 'Call Tom.': ['¡Llamalo a Tomás!', '¡Llámalo a Tomás!', '¡Llámenlo a Tomás!'],\n 'Cheer up!': ['Anímate.'],\n 'Cheer up.': ['Venga.'],\n 'Cool off!': ['¡Cálmate!'],\n 'Cuff him.': ['Espósale.'],\n \"Don't go.\": ['No te vayas.'],\n 'Drive on.': ['Continúa.'],\n 'Find Tom.': ['Encontralo a Tomás.',\n  'Encuéntralo a Tomás.',\n  'Encuéntrelo a Tomás.',\n  'Encuéntrenlo a Tomás.',\n  'Encuentre a Tom.',\n  'Encuentren a Tom.'],\n 'Fix this.': ['Arregla esto.'],\n 'Get away!': ['¡Vete de aquí!', '¡Lárgate!', '¡Largo!', '¡Vete ya!'],\n 'Get down!': ['Ponte a ello.'],\n 'Get down.': ['Abajo.', 'Túmbate.'],\n 'Get lost!': ['¡Piérdete!',\n  '¡Vete de aquí!',\n  '¡Lárgate!',\n  '¡Largo!',\n  '¡Vete ya!'],\n 'Get lost.': ['Esfúmate.'],\n 'Get real!': ['¡Despierta!', '¡Piénsalo bien!'],\n 'Get real.': ['Abre los ojos.'],\n 'Go ahead!': ['Adelante.'],\n 'Go ahead.': ['Adelante.'],\n 'Go on in.': ['Entre.', 'Entra.', 'Entren.', 'Entrá.', 'Entrad.'],\n 'Good job!': ['¡Buen trabajo!'],\n 'Grab Tom.': ['Sujeta a Tom.'],\n 'Grab him.': ['Agárralo.'],\n 'Have fun.': ['Diviértanse.', 'Pásala bien.', 'Pásenla bien.'],\n 'He spoke.': ['Él habló.'],\n 'He tries.': ['Él lo intenta.', 'Él prueba.'],\n 'Help Tom.': ['Ayuda a Tom.'],\n 'Help him.': ['Ayúdalo.'],\n 'Hi, guys.': ['Hola, ¿qué hay?',\n  'Ey, chavales.',\n  '¿Qué pasa, troncos?',\n  'Buenas.',\n  '¿Qué tal os va?',\n  'Hola por aquí.'],\n 'How cute!': ['¡Qué encanto!'],\n 'How deep?': ['¿Qué tan profundo?', '¿Cómo de profundo?'],\n 'Humor me.': ['Hazme el favor.', 'Compláceme.'],\n 'Hurry up.': ['¡Date prisa!', 'Apresúrate.'],\n 'I agreed.': ['Convine.', 'Acepté.', 'Accedí.'],\n 'I am fat.': ['Soy gorda.'],\n 'I am old.': ['Estoy viejo.'],\n 'I ate it.': ['Me lo comí.', 'Me la comí.'],\n 'I can go.': ['Puedo ir.'],\n 'I did OK.': ['Lo hice bien.'],\n 'I did it.': ['Lo hice.'],\n 'I failed.': ['Fracasé.'],\n 'I forgot.': ['Lo olvidé.'],\n 'I get by.': ['Me las arreglo.'],\n 'I get it.': ['Lo entiendo.'],\n 'I got it.': ['Lo tengo.'],\n 'I phoned.': ['Llamé por teléfono.'],\n 'I refuse.': ['Me niego.'],\n 'I resign.': ['Dimito.', 'Renuncio.'],\n 'I saw it.': ['Lo vi.'],\n 'I smiled.': ['Sonreí.'],\n 'I stayed.': ['Me quedé.'],\n 'I talked.': ['Hablé.', 'Hablaba.', 'Charlé.', 'Charlaba.'],\n 'I use it.': ['Yo lo uso.'],\n 'I waited.': ['Esperé.'],\n \"I'll pay.\": ['Yo pagaré.'],\n \"I'm back.\": ['He vuelto.', 'Estoy de vuelta.'],\n \"I'm bald.\": ['Soy calvo.', 'Estoy calvo.'],\n \"I'm calm.\": ['Estoy calmado.'],\n \"I'm cool.\": ['Estoy tranquilo.'],\n \"I'm done.\": ['He terminado.'],\n \"I'm easy.\": ['Soy bastante facilón.'],\n \"I'm fair.\": ['Soy justo.'],\n \"I'm fine.\": ['Estoy perfectamente.'],\n \"I'm free!\": ['¡Soy libre!'],\n \"I'm free.\": ['Yo soy libre.'],\n \"I'm full.\": ['Estoy lleno.', 'Estoy llena.', 'Ya me llené.'],\n \"I'm here.\": ['Estoy aquí.'],\n \"I'm home.\": ['Estoy en casa.'],\n \"I'm hurt.\": ['Estoy herido.'],\n \"I'm late.\": ['Llego tarde.'],\n \"I'm lazy.\": ['Soy vago.'],\n \"I'm lost.\": ['Estoy perdida.'],\n \"I'm mean.\": ['Soy malo.'],\n \"I'm next.\": ['Me toca a mí.'],\n \"I'm okay.\": ['Estoy perfectamente.'],\n \"I'm poor.\": ['Soy pobre.'],\n \"I'm rich.\": ['Soy rica.', 'Soy rico.'],\n \"I'm safe.\": ['Estoy a salvo.'],\n \"I'm sick.\": ['Estoy enferma.'],\n \"I'm thin.\": ['Soy delgado.'],\n \"I'm tidy.\": ['Estoy limpio.'],\n \"I'm warm.\": ['Estoy calentito.'],\n \"I'm weak.\": ['Estoy débil.'],\n \"I'm wise.\": ['Soy listo.'],\n \"I've won.\": ['Gané.'],\n 'It helps.': ['Eso ayuda.'],\n 'It hurts.': ['Duele.'],\n 'It works.': ['Funciona.'],\n \"It's Tom.\": ['Es Tom.'],\n \"It's fun.\": ['Es divertido.'],\n \"It's his.\": ['Es suyo.'],\n \"It's new.\": ['Es nuevo.'],\n \"It's odd.\": ['Es extraño.'],\n \"It's old.\": ['Es viejo.'],\n \"It's red.\": ['Es rojo.'],\n \"It's sad.\": ['Es triste.'],\n 'Keep out!': ['Prohibido pasar.'],\n 'Keep out.': ['No entrar.'],\n 'Kiss Tom.': ['Besá a Tomás.', 'Besa a Tomás.', 'Besen a Tomás.'],\n 'Leave it.': ['Déjalo.'],\n 'Leave me.': ['Déjame.'],\n 'Leave us.': ['Déjanos.'],\n \"Let's go!\": ['Vamos.', '¡Órale!'],\n 'Look out!': ['Cuidado.'],\n 'Marry me.': ['Cásate conmigo.'],\n 'May I go?': ['¿Puedo ir?'],\n 'Save Tom.': ['Salva a Tom.'],\n 'She came.': ['Ella vino.'],\n 'She died.': ['Ella murió.'],\n 'She runs.': ['Ella corre.'],\n 'Sit down!': ['¡Sentate!'],\n 'Sit down.': ['Siéntate.'],\n 'Sit here.': ['Siéntate aquí.'],\n 'Speak up!': ['¡Hable más fuerte!', 'Habla más fuerte.', '¡Habla más alto!'],\n 'Stand by.': ['Prepárate.', 'Un momento.'],\n 'Stand up!': ['¡Parate!', '¡De pie!'],\n 'Stay put.': ['No te muevas.'],\n 'Stop Tom.': ['Detén a Tom.'],\n 'Take Tom.': ['Llévate a Tom.'],\n 'Tell Tom.': ['Díselo a Tom.'],\n 'Terrific!': ['¡Genial!', '¡Órale!'],\n 'They won.': ['Ellos ganaron.'],\n 'Tom came.': ['Tom vino.'],\n 'Tom died.': ['Tom ha muerto.'],\n 'Tom fell.': ['Tom se cayó.'],\n 'Tom knew.': ['Tom lo sabía.', 'Tom tenía constancia de ello.'],\n 'Tom left.': ['Tom se fue.'],\n 'Tom lied.': ['Tom mintió.'],\n 'Tom lies.': ['Tomás miente.'],\n 'Tom lost.': ['Tom perdió.'],\n 'Tom paid.': ['Tom pagó.'],\n 'Tom quit.': ['Tom renunció.'],\n 'Tom swam.': ['Tom nadó.'],\n 'Tom wept.': ['Tom lloró.'],\n \"Tom's up.\": ['Tom se ha levantado.'],\n 'Too late.': ['Demasiado tarde.'],\n 'Trust me.': ['Confía en mí.'],\n 'Try hard.': ['Inténtalo de veras.'],\n 'Try some.': ['Prueba un poco.', 'Pruebe un poco.', 'Prueben un poco.'],\n 'Try this.': ['Prueben esto.', 'Probá esto.', 'Prueba esto.'],\n 'Use this.': ['Usa esto.'],\n 'Warn Tom.': ['Avísale a Tom.',\n  'Avísele a Tom.',\n  'Avísenle a Tom.',\n  'Avisale a Tom.'],\n 'Watch me.': ['Mírame.', 'Vigílame.', 'Obsérvame.'],\n 'Watch us.': ['Obsérvalos.', 'Obsérvanos.'],\n 'We agree.': ['Estamos de acuerdo.'],\n 'We tried.': ['Lo intentamos.'],\n \"We'll go.\": ['Iremos.'],\n \"We're OK.\": ['Estamos bien.'],\n 'What for?': ['¿Para qué?'],\n 'What fun!': ['¡Qué divertido!'],\n 'Who am I?': ['¿Quién soy yo?'],\n 'Who came?': ['¿Quién vino?'],\n 'Who died?': ['¿Quién murió?'],\n 'Who fell?': ['¿Quién se calló?', '¿Quién se cayó?'],\n 'Who quit?': ['¿Quién se ha ido?', '¿Quién lo ha dejado?'],\n 'Who swam?': ['¿Quién nadó?'],\n \"Who's he?\": ['¿Quién es él?'],\n 'Write me.': ['Escríbeme.'],\n 'After you.': ['Después de ti.',\n  'Tú primero.',\n  'Usted primero.',\n  'Después de usted.',\n  'Después de vosotras.'],\n 'Aim. Fire!': ['Apunta. ¡Fuego!'],\n 'Answer me.': ['Respóndeme.', 'Respondedme.', 'Respóndanme.'],\n 'Birds fly.': ['Los pájaros vuelan.'],\n 'Bless you.': ['Jesús.'],\n 'Call home!': ['¡Llama a casa!'],\n 'Calm down.': ['Cálmate.',\n  'Tranquilízate.',\n  'Tomátelo con soda.',\n  'Bajá un cambio.'],\n 'Can we go?': ['¿Podemos ir?', '¿Podemos irnos?', '¿Podemos marcharnos?'],\n 'Catch Tom.': ['¡Atrápelo a Tomás!'],\n 'Catch him.': ['Captúralo.', 'Captúrenlo.', 'Atrápenlo.', 'Atrápalo.'],\n 'Come back.': ['Vuelve.'],\n 'Come here.': ['Vení.', 'Ven.', 'Venid aquí.'],\n 'Come home.': ['Ven a casa.'],\n 'Come over.': ['Venid aquí.', 'Vente.', 'Veníos.', 'Venga aquí.'],\n 'Come soon.': ['Vuelve pronto.'],\n 'Do it now.': ['Hazlo ahora.'],\n 'Dogs bark.': ['Los perros ladran.'],\n \"Don't ask.\": ['No preguntes.'],\n \"Don't cry.\": ['No llores.', '¡No llorés!', '¡No llores!', 'No lloren.'],\n \"Don't lie.\": ['No mintáis.'],\n \"Don't run.\": ['No corras.'],\n 'Fantastic!': ['¡Fantástico!', '¡Es estupendo!', '¡Órale!'],\n 'Feel this.': ['Tienta esto.',\n  'Tiente esto.',\n  'Tienten esto.',\n  'Tentad esto.',\n  'Tentá esto.'],\n 'Follow me.': ['Sígueme.', 'Seguidme.'],\n 'Follow us.': ['Síguenos.'],\n 'Forget it.': ['Déjalo.'],\n 'Forget me.': ['Olvídame.',\n  'Olvídate de mí.',\n  'Olvídenme.',\n  'Olvídense de mí.'],\n 'Get ready.': ['Preparaos.'],\n 'Go for it.': ['Ve a por ello.', 'Ve a cogerlo.'],\n 'Go get it.': ['Ve a por ello.', 'Vete a por ello.', 'Id a por ello.'],\n 'Go inside.': ['Entra.'],\n 'Go to bed.': ['Vete a la cama.'],\n 'Grab that.': ['Cógelo.'],\n 'Grab this.': ['Agarra esto.'],\n 'Have some.': ['Coge alguno.', 'Toma algo.', 'Tome alguno.'],\n 'He is old.': ['Él es viejo.', 'Él es anciano.'],\n 'He shaved.': ['Él se afeitó.'],\n 'He smiled.': ['Sonrió.'],\n \"He's a DJ.\": ['Él es DJ.'],\n \"He's fast.\": ['Él es veloz.'],\n \"He's good.\": ['Él es bueno.'],\n \"He's rich.\": ['Él es rico.', 'Es rico.'],\n 'Here I am.': ['Acá estoy.'],\n 'Hold this.': ['Sostén esto.'],\n 'How awful!': ['¡Qué horror!'],\n 'How weird!': ['¡Qué raro!'],\n \"How's Tom?\": ['¿Cómo está Tom?'],\n 'Humor Tom.': ['Divierte a Tom.'],\n 'I am busy.': ['Estoy ocupada.'],\n 'I am full.': ['Estoy lleno.', 'Estoy llena.'],\n 'I am good.': ['Soy bueno.'],\n 'I am here.': ['Estoy aquí.'],\n 'I am sick.': ['Estoy enferma.'],\n 'I am weak.': ['Estoy débil.'],\n 'I beg you.': ['Te lo ruego.', 'Te lo suplico.'],\n 'I can fly.': ['Puedo volar.'],\n 'I can run.': ['Puedo correr.', 'Sé correr.'],\n 'I can ski.': ['Sé esquiar.'],\n 'I cringed.': ['Sentí vergüenza.'],\n 'I fainted.': ['Perdí la consciencia.', 'Quedé inconsciente.'],\n 'I gave up.': ['Lo dejé.', 'Me rendí.', 'Tiré la toalla.', 'Cedí.'],\n 'I get you.': ['Te entiendo.', 'Te pillo.', 'Ya te pillo.'],\n 'I got hit.': ['Me dieron.', 'Me alcanzaron.'],\n 'I hate it.': ['Lo odio.', 'Me la seca.', 'Me la baja.'],\n 'I hit Tom.': ['Golpeo a Tom.'],\n 'I hope so.': ['Eso espero.'],\n 'I knew it.': ['Lo sabía.'],\n 'I laughed.': ['Me reí.'],\n 'I like it.': ['Me gusta.'],\n 'I love it!': ['¡Lo adoro!'],\n 'I love it.': ['Me encanta.'],\n 'I mean it!': ['Hablo en serio.'],\n 'I mean it.': ['Lo digo en serio.', 'Hablo en serio.'],\n 'I miss it.': ['Lo echo en falta.', 'Lo echo de menos.', 'Lo añoro.'],\n 'I need it.': ['Lo necesito.'],\n 'I saw Tom.': ['Vi a Tom.'],\n 'I saw him.': ['Le vi.', 'Lo vi.'],\n 'I saw one.': ['Vi uno.', 'Vi a uno.', 'Veía a uno.'],\n 'I saw you.': ['Te vi.', 'Te he visto.'],\n 'I see Tom.': ['Veo a Tom.'],\n 'I tripped.': ['Me tropecé.'],\n \"I'll cook.\": ['Yo cocinaré.', 'Yo guisaré.'],\n \"I'll live.\": ['Viviré.'],\n \"I'll sing.\": ['Cantaré.'],\n \"I'll stop.\": ['Pararé.', 'Lo dejaré.'],\n \"I'll wait.\": ['Esperaré.', 'Aguardaré.'],\n \"I'll walk.\": ['Caminaré.', 'Andaré.'],\n \"I'll work.\": ['Voy a trabajar.'],\n \"I'm a man.\": ['Soy un hombre.'],\n \"I'm a pro.\": ['Soy un pro.'],\n \"I'm alone.\": ['Estoy solo.',\n  'Estoy sola.',\n  'Yo estoy solo.',\n  'Yo estoy sola.'],\n \"I'm angry.\": ['Estoy enojado.', 'Estoy enojada.'],\n \"I'm awake.\": ['Estoy despierto.'],\n \"I'm blind.\": ['Soy ciega.'],\n \"I'm broke.\": ['Estoy sin dinero.',\n  'Estoy quebrado.',\n  'Estoy sin blanca.',\n  'No tengo blanca.'],\n \"I'm crazy.\": ['Estoy loco.'],\n \"I'm drunk.\": ['Estoy borracho.', 'Estoy tomada.', 'Estoy prendida.'],\n \"I'm dying.\": ['Me estoy muriendo.'],\n \"I'm first.\": ['Soy el primero.',\n  'Voy el primero.',\n  'Me toca primero.',\n  'Yo voy primero.'],\n \"I'm happy.\": ['Soy feliz.', 'Estoy feliz.'],\n \"I'm loved.\": ['Soy amado.', 'Soy amada.'],\n \"I'm obese.\": ['Soy obeso.'],\n \"I'm ready.\": ['Estoy listo.'],\n \"I'm sorry.\": ['Lo siento.'],\n \"I'm tired.\": ['Yo estoy cansado.', 'Yo estoy cansada.'],\n \"I'm yours.\": ['Soy tuyo.', 'Soy tuya.', 'Soy suyo.'],\n \"I've lost.\": ['He perdido.'],\n 'Ignore it.': ['Ólvidalo.', 'No hagas caso.'],\n 'Is Tom OK?': ['¿Está bien Tom?'],\n 'Is Tom in?': ['¿Está Tom?'],\n 'Is it bad?': ['¿Es grave?', '¿Es malo?'],\n 'Is it far?': ['¿Está lejos?'],\n 'Is it you?': ['¿Eres tú?'],\n 'It burned.': ['Se quemó.'],\n 'It failed.': ['No lo consiguió.', 'Falló.', 'Fracasó.'],\n 'It is new.': ['Es nuevo.'],\n 'It rained.': ['Llovió.'],\n 'It snowed.': ['Nevó.'],\n 'It stinks.': ['Apesta.'],\n 'It worked.': ['Funcionó.'],\n \"It's 3:10.\": ['Son las tres y diez.'],\n \"It's 8:30.\": ['Son las 8:30.'],\n \"It's a TV.\": ['Es un televisor.'],\n \"It's cold.\": ['Hace frío.', 'Está frío.'],\n \"It's cool.\": ['Está frío.', 'Está fresco.'],\n \"It's dark.\": ['Está oscuro.'],\n \"It's done!\": ['¡Está listo!'],\n \"It's fine.\": ['Está perfecto.'],\n \"It's good.\": ['Está bien.', 'Es bueno.'],\n \"It's here.\": ['Está aquí.'],\n \"It's hers.\": ['Es de ella.'],\n \"It's late.\": ['Es tarde.'],\n \"It's mine.\": ['Es mío.', 'Es mía.'],\n \"It's nice.\": ['Es agradable.', 'Hace buen tiempo.'],\n \"It's okay.\": ['Vale.', 'Está bien.'],\n \"It's ours.\": ['Es nuestro.', 'Es la nuestra.'],\n \"It's over.\": ['Se terminó.', 'Se acabó.'],\n \"It's time.\": ['Ha llegado el momento.',\n  'Es la hora.',\n  'Es el momento.',\n  'Ha llegado la hora.'],\n \"It's true!\": ['¡Es verdad!'],\n \"It's true.\": ['Es verdad.'],\n \"It's work.\": ['Es mi trabajo.'],\n 'Keep them.': ['Guárdalos.', 'Quédatelos.', 'Guárdenselos.'],\n 'Keep this.': ['Guarda esto.',\n  'Guarde esto.',\n  'Guardá esto.',\n  'Guardad esto.',\n  'Guarden esto.'],\n 'Keep warm.': ['Mantente caliente.',\n  'Manténgase caliente.',\n  'Mantenete caliente.',\n  'Mantenete abrigado.',\n  'Mantente abrigado.',\n  'Manténgase abrigado.',\n  'Manténganse calientes.',\n  'Manténganse abrigados.'],\n 'Leave Tom.': ['Dejalo a Tomás.', 'Déjalo a Tomás.', 'Déjelo a Tomás.'],\n 'Leave now.': ['Ahora márchate.', 'Ahora vete.', 'Ahora lárgate.'],\n 'Let me go!': ['¡Déjame marchar!', '¡Suéltame!', '¡Déjeme ir!'],\n 'Let me go.': ['¡Déjeme ir!'],\n 'Let me in.': ['Déjame entrar.', 'Déjeme entrar.'],\n 'Let us in.': ['Déjanos entrar.'],\n \"Let's eat.\": ['Comamos.'],\n \"Let's see.\": ['Veamos.'],\n \"Let's try!\": ['¡Intentémoslo!'],\n 'Lie still.': ['Túmbate en silencio.', 'Mantente quieto en el suelo.'],\n 'Listen up.': ['Escuchá.'],\n 'Look away.': ['Mirá para otro lado.',\n  'Mira para otro lado.',\n  'Mire para otro lado.',\n  'Miren para otro lado.'],\n 'Look back!': ['¡Mira hacia atrás!'],\n 'Look back.': ['Mira atrás.', 'Mire atrás.', 'Mirad atrás.'],\n 'Look here.': ['Mira aquí.', 'Mirad aquí.', 'Miren aquí.'],\n 'Loosen it.': ['Aflójalo.', 'Suéltalo.', 'Suéltala.', 'Aflójala.'],\n 'Move over.': ['Hazte a un lado.',\n  'Deja sitio.',\n  'Mueve el culo.',\n  'Deja pasar.'],\n 'Nice shot!': ['¡Buen tiro!'],\n 'Of course!': ['¡Por supuesto!'],\n 'Open fire!': ['¡Disparad!', '¡Fuego a discreción!'],\n 'Pardon me?': ['¿Perdona?'],\n 'Please go.': ['Por favor, ve.',\n  'Por favor, vete.',\n  'Por favor, márchate.',\n  'Por favor, váyase.'],\n 'Put it on.': ['Póntelo.', 'Póngaselo.'],\n 'Read this.': ['Lee esto.', 'Lea esto.', 'Lean esto.', 'Leed esto.'],\n 'Say hello.': ['Decí hola.'],\n 'Search me.': ['A mí que me registren.'],\n 'See above.': ['Véase arriba.', 'Véase más arriba.'],\n 'Seize him!': ['¡A por él!',\n  '¡Cogedlo!',\n  '¡Arrestadlo!',\n  '¡Prendedlo!',\n  '¡Capturadlo!'],\n 'Seriously?': ['¿En serio?'],\n 'She tried.': ['Ella lo intentó.', 'Ella lo probó.'],\n 'She walks.': ['Ella anda.', 'Ella camina.', 'Anda.'],\n \"She's hot.\": ['Ella es candente.',\n  'Está como un tren.',\n  'Está de toma pan y moja.',\n  'Está buena.',\n  'Está que cruje.'],\n 'Sign here.': ['Firme aquí.'],\n 'Sign this.': ['Firma esto.',\n  'Firme esto.',\n  'Firmen esto.',\n  'Firmá esto.',\n  'Firmad esto.'],\n 'Sit still.': ['Siéntate y no te muevas.', 'Siéntate y quédate quieto.'],\n 'Sit there.': ['Sentate ahí.'],\n 'Sit tight.': ['Tú mantente.'],\n 'Slow down.': ['Quieto.', 'Más despacio.'],\n 'Stay away.': ['Fuera.', 'Aléjate.'],\n 'Stay calm.': ['Mantén la calma.', 'Mantené la calma.'],\n 'Stay here.': ['Quedate acá.'],\n 'Step back.': ['Da un paso atrás.'],\n 'Stop here.': ['Para aquí.',\n  'Párate aquí.',\n  'Detente aquí.',\n  'Deténgase aquí.',\n  'Deténganse aquí.',\n  'Paraos aquí.',\n  'Parad aquí.'],\n 'Stop that.': ['Para eso.'],\n 'Stop them.': ['Deténlos.', 'Párales.'],\n 'Take care!': ['¡Cuidate!', '¡Te cuidas!'],\n 'Take care.': ['Cuídate.', 'Cuidaos.'],\n 'Take mine.': ['Coge el mío.', 'Toma el mío.'],\n 'Take over.': ['Asume el mando.', 'Toma el control.', 'Encárgate tú.'],\n 'Take this.': ['Toma esto.', 'Tome esto.', 'Tomen esto.', 'Tomá esto.'],\n 'Thank you.': ['¡Gracias!', 'Gracias a ti.', 'Gracias.'],\n \"That's it.\": ['Eso es.'],\n \"That's me.\": ['Soy yo.', 'Ese soy yo.'],\n 'Then what?': ['¿Entonces qué?'],\n 'They fell.': ['Cayeron.'],\n 'They left.': ['Se fueron.', 'Se marcharon.', 'Se iban.'],\n 'They lost.': ['Perdieron.'],\n 'Tom bowed.': ['Tom se inclinó.'],\n 'Tom cared.': ['Tom se preocupó.',\n  'Tom se preocupaba.',\n  'A Tom le importaba.'],\n 'Tom cares.': ['Tom se preocupa.', 'A Tom le importa.'],\n 'Tom cried.': ['Tom lloró.'],\n 'Tom dozed.': ['Tom dormitó.'],\n 'Tom drove.': ['Tomás condujo.'],\n 'Tom is OK.': ['Tom está bien.'],\n 'Tom is in.': ['Tom está dentro.'],\n 'Tom is up.': ['Tom está levantado.'],\n 'Tom knits.': ['Tom teje.'],\n 'Tom knows.': ['Tom sabe.'],\n 'Tom moved.': ['Tom se mudó.', 'Tom se movió.'],\n 'Tom rocks.': ['Tom se mece.'],\n 'Tom stood.': ['Tom se quedó.'],\n 'Tom swims.': ['Tom nada.'],\n 'Tom swore.': ['Tom juró.'],\n 'Tom tried.': ['Tomás lo intentó.'],\n 'Tom tries.': ['Tomás lo intenta.'],\n 'Tom voted.': ['Tomás votó.'],\n 'Tom walks.': ['Tom camina.'],\n 'Tom waved.': ['Tom saludó.'],\n 'Tom works.': ['Tomás trabaja.'],\n \"Tom'll go.\": ['Tom irá.'],\n \"Tom's fat.\": ['Tom está gordo.'],\n \"Tom's mad.\": ['Tom está loco.'],\n \"Tom's sad.\": ['Tom está triste.'],\n \"Tom's shy.\": ['Tom es tímido.'],\n 'Trust Tom.': ['Confía en Tom.'],\n 'Try again.': ['Inténtalo de nuevo.',\n  'Intentadlo otra vez.',\n  'Intenta otra vez.'],\n 'Try it on.': ['Pruébatelo.'],\n 'Wait here.': ['Espera aquí.',\n  'Aguarda aquí.',\n  'Esperen aquí.',\n  'Esperad aquí.'],\n 'Watch Tom.': ['Vigila a Tom.'],\n 'Watch out!': ['¡Abusado!'],\n 'We can go.': ['Podemos ir.', 'Podemos irnos.', 'Nos podemos marchar.'],\n 'We failed.': ['Fallamos.', 'Hemos fallado.'],\n 'We forgot.': ['Nos olvidamos.'],\n 'We saw it.': ['Lo vimos.', 'Lo veíamos.'],\n 'We talked.': ['Conversamos.'],\n 'We waited.': ['Nosotros esperamos.'],\n \"We'll see.\": ['Después veremos.', 'Ya veremos.'],\n \"We'll try.\": ['Lo intentaremos.'],\n \"We've won!\": ['¡Hemos ganado!'],\n \"What's up?\": ['¿Qué hay?'],\n 'Who cares?': ['¿A quién le importa?'],\n 'Who is he?': ['¿Quién es él?'],\n 'Who is it?': ['¿Quién es?'],\n 'Who knows?': ['Aabe...'],\n 'Who stood?': ['¿Quién se quedó?'],\n \"Who'll go?\": ['¿Quién irá?'],\n \"Who's Tom?\": ['¿Quién es Tom?'],\n 'Write Tom.': ['Escribe a Tom.'],\n 'You drive.': ['Tú maneja.'],\n 'You start.': ['Tú empieza.'],\n 'You tried.': ['Lo intentaste.'],\n \"You're OK.\": ['Tú estás perfectamente.', 'Estás perfectamente.'],\n 'Aim higher.': ['Más alto.', 'Apuntad más alto.'],\n 'All aboard!': ['¡Todos a bordo!'],\n 'Am I right?': ['¿Tengo razón?'],\n 'Am I wrong?': ['¿Me equivoco?', '¿Estoy equivocada?'],\n 'Answer Tom.': ['¡Respóndale a Tomás!',\n  '¡Respondele a Tomás!',\n  '¡Respóndanle a Tomás!'],\n 'Are you 18?': ['¿Tienes dieciocho?', '¿Has cumplido dieciocho?'],\n 'Are you OK?': ['¿Estás bien?'],\n 'Are you in?': ['¿Te apuntas?', '¿Estás dentro?'],\n 'Are you up?': ['¿Estás levantado?'],\n 'Ask anyone.': ['Pregúntale a cualquiera.',\n  'Preguntadle a cualquiera.',\n  'Pregúntele a cualquiera.',\n  'Pregúntenle a cualquiera.'],\n 'Ask around.': ['Pregunta por aquí.', 'Pregunta en los alrededores.'],\n 'Be careful.': ['¡Ten cuidado!', '¡Sé cuidadoso!'],\n 'Be content.': ['Estate contento.'],\n 'Be on time.': ['Llega a tiempo.', 'Llegue a tiempo.'],\n 'Be patient.': ['Sea paciente.'],\n 'Be serious.': ['Sé serio.'],\n 'Birds sing.': ['Los pájaros cantan.', 'Los pájaros están cantando.'],\n 'Bring food.': ['Traed comida.'],\n 'Bring help.': ['Traed ayuda.'],\n 'Bring wine.': ['Trae vino.'],\n 'Can I come?': ['¿Puedo ir?', '¿Puedo venir?', '¿Puedo acercarme?'],\n 'Can I help?': ['¿Puedo ayudar?'],\n 'Can I stay?': ['¿Me puedo quedar?'],\n 'Carry this.': ['Lleva esto.'],\n 'Check that.': ['Comprobad eso.'],\n 'Check this.': ['Comprueba esto.'],\n 'Choose one.': ['Escoge uno.'],\n 'Come again.': ['Vuelve otra vez.'],\n 'Come alone.': ['Ven solo.'],\n 'Come along.': ['Vente.', 'Vénganse.'],\n 'Come early.': ['Vení temprano.',\n  'Ven temprano.',\n  'Vengan temprano.',\n  'Venga temprano.'],\n 'Come on in!': ['¡Pásale!', '¡Pásele!', '¡Pásenle!'],\n 'Come on in.': ['Entre.', 'Pase.'],\n 'Come quick!': ['¡Ven rápido!', '¡Vení rápido!'],\n 'Come to me.': ['Ven a mí.', 'Venid a mí.'],\n 'Come to us.': ['Ven a nosotros.', 'Venid a nosotros.'],\n 'Cut it out!': ['¡Ya párale!'],\n 'Did Tom go?': ['¿Fue Tom?'],\n 'Do come in!': ['¡Pásale!', '¡Pásele!', '¡Pásenle!'],\n 'Do come in.': ['Pasa adentro.',\n  'Entra de una vez.',\n  'Entra ya.',\n  'Métete dentro.'],\n 'Do men cry?': ['¿Los hombres lloran?'],\n \"Don't come.\": ['No vengas.'],\n \"Don't jump!\": ['¡No saltéis!'],\n \"Don't look.\": ['No miréis.'],\n \"Don't move!\": ['¡No os mováis!'],\n \"Don't move.\": ['No te muevas.', 'No se mueva.', 'No se muevan.'],\n \"Don't sing.\": ['No cantes.', 'No canten.'],\n \"Don't stop.\": ['No pares.'],\n \"Don't talk!\": ['¡No hables!'],\n \"Don't talk.\": ['No hables.'],\n \"Don't wait.\": ['¡No esperes!', '¡No esperen!', 'No esperes.'],\n \"Don't yell.\": ['No grites.'],\n 'Eat slowly.': ['Come despacio.', '¡Comé despacio!'],\n 'Fire burns.': ['El fuego quema.'],\n 'Follow Tom.': ['Seguilo a Tomás.',\n  'Síguelo a Tomás.',\n  'Sígalo a Tomás.',\n  'Síganlo a Tomás.'],\n 'Follow him.': ['Síguele.', 'Síguelo.'],\n 'Forget Tom.': ['Olvidate de Tomás.',\n  'Olvídate de Tomás.',\n  'Olvídese de Tomás.'],\n 'Forget him.': ['Olvídenlo.'],\n 'Forgive us.': ['Perdónanos.', 'Perdónenos.'],\n 'Get a life.': ['Consíguete una vida.'],\n 'Get inside.': ['Entra.'],\n 'Get to bed.': ['Vete a la cama.'],\n 'Give it up.': ['Déjalo.'],\n 'Go on home.': ['Vete a casa.', 'Váyase a casa.'],\n 'Go see Tom.': ['Ve a ver a Tom.'],\n 'Go to work.': ['Andá a trabajar.'],\n 'God exists.': ['Dios existe.'],\n 'Have faith.': ['Ten fe.', 'Tened fe.', 'Tengan fe.', 'Confíen.'],\n 'He ate out.': ['Él salió a comer.'],\n 'He coughed.': ['Tosió.'],\n 'He gave in.': ['Él se rindió.'],\n 'He gave up.': ['Se rindió.', 'Lo dejó.', 'Cedió.', 'Tiró la toalla.'],\n 'He hung up.': ['Descolgó.', 'Él cogió el teléfono.'],\n 'He is a DJ.': ['Él es DJ.'],\n 'He is here!': ['¡Él está aquí!'],\n 'He is kind.': ['Él es gentil.', 'Él es amable.', 'Él es generoso.'],\n 'He is mean.': ['Él es mezquino.'],\n 'He is tall.': ['Él es alto.'],\n 'He laughed.': ['Él se reía.'],\n 'He made it.': ['Lo hizo él.', 'Lo logró.', 'Lo hizo.'],\n \"He's broke.\": ['Está sin blanca.', 'Está arruinado.'],\n \"He's cruel.\": ['Él es cruel.'],\n \"He's lying.\": ['Él miente.', 'Él está mintiendo.'],\n \"He's smart.\": ['Es inteligente.', 'Él es inteligente.'],\n 'Here he is!': ['¡Helo aquí!', '¡Aquí está él!'],\n 'Here it is.': ['Aquí está.'],\n 'Here we go.': ['Aquí vamos.'],\n 'Hey, relax.': ['Hey, cálmate.'],\n 'Hold still.': ['Quieto.', 'Mantente quieto.'],\n 'How boring!': ['¡Qué aburrimiento!'],\n 'How is Tom?': ['¿Cómo está Tom?'],\n 'How lovely!': ['¡Qué bonito!', '¡Encantador!', '¡Es una preciosidad!'],\n 'How tragic!': ['¡Qué trágico!'],\n \"How's work?\": ['¿Qué tal el trabajo?', '¿Cómo van las cosas en el trabajo?'],\n 'Hurry home.': ['Rápido, a casa.', 'Corre, vete a casa.'],\n 'I admit it.': ['Lo admito.'],\n 'I am a man.': ['Soy un hombre.', 'Soy una persona.'],\n 'I am bored.': ['Estoy aburrida.'],\n 'I am happy.': ['¡Soy feliz!', '¡Estoy feliz!', 'Yo estoy contento.'],\n 'I am human.': ['Yo soy humano.'],\n 'I am ready.': ['Estoy listo.'],\n 'I am tired.': ['Estoy fisurado.'],\n 'I broke it.': ['Yo lo rompí.'],\n 'I can help.': ['Yo puedo ayudar.'],\n 'I can jump.': ['Puedo saltar.'],\n 'I can read.': ['Sé leer.'],\n 'I can sing.': ['Puedo cantar.'],\n 'I can swim.': ['Sé nadar.'],\n 'I chuckled.': ['Solté una risita.'],\n 'I disagree.': ['No estoy de acuerdo.'],\n 'I doubt it.': ['Lo dudo.'],\n 'I eat here.': ['Como aquí.', 'Yo como aquí.'],\n 'I eat meat.': ['Yo como carne.'],\n 'I envy Tom.': ['Envidio a Tom.'],\n 'I envy him.': ['Lo envidio.'],\n 'I feel bad.': ['Me siento mal.'],\n 'I feel old.': ['Me siento viejo.'],\n 'I felt bad.': ['Me sentía mal.'],\n 'I found it.': ['Lo encontré.'],\n 'I got lost.': ['Me perdí.'],\n 'I got sick.': ['Me puse enfermo.'],\n 'I hate Tom.': ['Odio a Tom.'],\n 'I hate you.': ['Te detesto.'],\n 'I have one.': ['Tengo uno.', 'Yo tengo uno.'],\n 'I have won.': ['Gané.'],\n 'I hear you.': ['Te oigo.'],\n 'I help him.': ['Le ayudo.'],\n 'I knew Tom.': ['Conocí a Tom.'],\n 'I know Tom.': ['Conozco a Tom.'],\n 'I know her.': ['La conozco.'],\n 'I know him.': ['Lo conozco.'],\n 'I know now.': ['Ahora sé.'],\n 'I like Tom.': ['Me agrada Tom.'],\n 'I like art.': ['Me gusta el arte.'],\n 'I like him.': ['Me gusta él.', 'Él me gusta.'],\n 'I like tea.': ['Me gusta el té.'],\n 'I like you.': ['Me agradas.'],\n 'I liked it.': ['Me gustó.'],\n 'I love Tom.': ['Lo amo a Tomás.'],\n 'I love him.': ['Yo lo amo.', 'Lo amo.'],\n 'I love you.': ['Te quiero.', 'Te amo.', '¡Te amo!', 'Os amo.'],\n 'I loved it.': ['Me encantó.'],\n 'I miss Tom.': ['Echo de menos a Tom.'],\n 'I miss him.': ['Le echo de menos.', 'Lo extraño.'],\n 'I miss you.': ['Te echo de menos.'],\n 'I must run.': ['Tengo que correr.'],\n 'I need Tom.': ['Necesito a Tom.'],\n 'I need ice.': ['Necesito hielo.'],\n 'I promised.': ['Prometí.'],\n 'I ran home.': ['Me fui corriendo a casa.', 'Me apresuré a ir a casa.'],\n 'I remember.': ['Me acuerdo.', 'Yo me acuerdo.', 'Yo recuerdo.'],\n 'I resigned.': ['Renuncié.'],\n 'I said yes.': ['Dije que sí.', 'Yo decía que sí.'],\n 'I sat down.': ['Me senté.', 'Me sentaba.'],\n 'I saw that.': ['Lo vi.', 'Vi eso.', 'Veía eso.'],\n 'I screamed.': ['Grité.', 'Yo grité.'],\n 'I see them.': ['Los veo.', 'Las veo.'],\n 'I shot Tom.': ['Disparé a Tom.'],\n 'I survived.': ['Sobreviví.'],\n 'I think so.': ['Creo que sí.', 'Eso creo.'],\n 'I threw up.': ['Vomité.'],\n 'I told Tom.': ['Se lo dije a Tom.', 'Se lo he dicho a Tom.'],\n 'I use this.': ['Uso esto.', 'Utilizo esto.'],\n 'I want Tom.': ['Quiero a Tom.'],\n 'I want one!': ['¡Quiero uno!', '¡Quiero una!'],\n 'I want one.': ['Quiero uno.', 'Yo quiero uno.'],\n 'I was late.': ['Llegué tarde.'],\n 'I was sick.': ['Yo estaba enfermo.'],\n \"I won't go.\": ['No voy a ir.'],\n 'I work out.': ['Yo hago ejercicio.'],\n 'I wrote it.': ['Yo lo escribí.'],\n \"I'd buy it.\": ['Yo lo compraría.'],\n \"I'll be OK.\": ['Estaré bien.'],\n \"I'll do it.\": ['Lo haré yo.', 'Lo haré.'],\n \"I'll go in.\": ['Entraré.', 'Voy a entrar.'],\n \"I'm French.\": ['Soy francés.'],\n \"I'm a hero.\": ['Soy un héroe.'],\n \"I'm a liar.\": ['Soy un mentiroso.'],\n \"I'm a twin.\": ['Soy gemelo.'],\n \"I'm better.\": ['Yo soy mejor.'],\n \"I'm bushed.\": ['Estoy agotado.'],\n \"I'm buying.\": ['Estoy comprando.'],\n \"I'm clumsy.\": ['Soy torpe.'],\n \"I'm coming.\": ['Ahí voy.'],\n \"I'm eating.\": ['Estoy comiendo.'],\n \"I'm faster.\": ['Yo soy más rápido.'],\n \"I'm greedy.\": ['Soy codicioso.'],\n \"I'm hiding.\": ['Yo estoy escondido.'],\n \"I'm hungry!\": ['Ya tengo hambre.', 'Me pica el bagre.'],\n \"I'm hungry.\": ['Me pica el bagre.'],\n \"I'm immune.\": ['Soy inmune.'],\n \"I'm moving.\": ['Me estoy moviendo.', 'Me mudaré.'],\n \"I'm normal.\": ['Soy normal.'],\n \"I'm scared.\": ['Estoy asustado.'],\n \"I'm single.\": ['Estoy soltero.', 'Estoy soltera.', 'Soy soltero.'],\n \"I'm skinny.\": ['Estoy flacucho.'],\n \"I'm sleepy!\": ['¡Tengo sueño!', 'Tengo sueño.'],\n \"I'm sleepy.\": ['Tengo sueño.'],\n \"I'm so fat.\": ['Estoy tan gordo.', 'Estoy tan gorda.'],\n \"I'm trying.\": ['Lo estoy intentando.', 'Me estoy esforzando.'],\n \"I'm twelve.\": ['Tengo doce años.', 'Tengo doce.'],\n \"I've eaten.\": ['He comido.'],\n 'Ignore Tom.': ['Ignora a Tom.'],\n 'Ignore him.': ['No le hagas caso.'],\n 'Is Tom big?': ['¿Es grande Tom?'],\n 'Is Tom fat?': ['¿Está gordo Tom?'],\n 'Is Tom fun?': ['¿Tom es divertido?'],\n 'Is Tom hot?': ['¿Tiene calor Tom?'],\n 'Is Tom ill?': ['¿Tom está enfermo?'],\n 'Is Tom mad?': ['¿Está loco Tom?'],\n 'Is Tom out?': ['¿Está fuera Tom?'],\n 'Is he dead?': ['¿Está muerto?'],\n 'Is he tall?': ['¿Es alto?'],\n 'Is it free?': ['¿Es gratis?'],\n 'Is it good?': ['¿Está bueno?'],\n 'Is it here?': ['¿Es acá?', '¿Aquí?', '¿Está aquí?'],\n 'Is it real?': ['¿Esto es real?'],\n 'Is it safe?': ['¿Es seguro?'],\n 'Is it true?': ['¿Es verdad?'],\n 'Is that OK?': ['¿Vale eso?', '¿Está bien eso?'],\n 'Is that it?': ['¿Eso es todo?', '¿Es ese?'],\n 'Is that so?': ['¿Acaso es así?', '¿Es así?'],\n 'Is this OK?': ['¿Esto es bueno?'],\n 'Is this it?': ['¿Eso es todo?', '¿Es este?'],\n 'It happens.': ['Eso pasa.'],\n 'It is cold.': ['Está frío.'],\n 'It is mine.': ['Es mío.'],\n \"It's Tom's.\": ['Es de Tom.'],\n \"It's alive.\": ['Está vivo.'],\n \"It's empty.\": ['Está vacío.'],\n \"It's great.\": ['Es estupendo.', 'Es grandioso.'],\n \"It's green.\": ['Es verde.', 'Está verde.'],\n \"It's magic.\": ['Es magia.'],\n \"It's my CD.\": ['Es mi CD.'],\n \"It's night.\": ['Es de noche.', 'Ha anochecido.'],\n \"It's on me.\": ['Es de parte mía.'],\n \"It's ready.\": ['Está listo.'],\n \"It's right.\": ['Vale.', 'Está bien.', 'Es correcto.'],\n \"It's there.\": ['Está ahí.'],\n \"It's white.\": ['Es blanco.'],\n \"It's windy.\": ['Hace viento.'],\n \"It's yours.\": ['Es suyo.', 'Es tuyo.'],\n 'Jesus wept.': ['Jesús lloró.'],\n 'Just do it.': ['Tan sólo hazlo.'],\n 'Keep it up!': ['¡Continúa!', '¡Continúe!'],\n 'Keep notes.': ['Toma apuntes.', 'Tomad apuntes.', 'Tomen notas.'],\n 'Keep quiet!': ['¡Quédate tranquilo!', '¡Guarden silencio!'],\n 'Keep still.': ['Mantente quieto.',\n  'Mantenete quieto.',\n  'Manténgase quieto.',\n  'Manténganse quietos.'],\n 'Leave town.': ['Abandona la ciudad.',\n  'Deja la ciudad.',\n  'Sal de la ciudad.'],\n 'Let Tom go.': ['Deja ir a Tom.'],\n 'Let Tom in.': ['Dejar entrar a Tom.'],\n 'Let him go!': ['¡Déjale irse!'],\n 'Let him go.': ['Deja que se vaya.'],\n 'Let him in.': ['Déjalo entrar.',\n  'Dejalo entrar.',\n  'Déjelo entrar.',\n  'Déjenlo entrar.',\n  'Dejadlo entrar.'],\n 'Let me out!': ['¡Déjame salir!', '¡Dejadme salir!'],\n 'Let me pay.': ['Deja que pague yo.'],\n 'Let me see.': ['Déjame ver.', 'Déjeme ver.', 'A ver.'],\n \"Let's chat.\": ['Charlemos.', 'Vamos a charlar.'],\n \"Let's kiss.\": ['Besémonos.'],\n \"Let's play.\": ['Juguemos.'],\n \"Let's quit.\": ['Desistamos.', 'Renunciemos.'],\n \"Let's sing.\": ['Cantemos.'],\n \"Let's swim.\": ['Nademos.'],\n \"Let's talk.\": ['Conversemos.'],\n \"Let's vote.\": ['Votemos.'],\n \"Let's walk.\": ['Caminemos.'],\n \"Let's work.\": ['Trabajemos.'],\n 'Lift it up.': ['Levántalo.'],\n 'Look again.': ['Mirá de nuevo.',\n  'Mira de nuevo.',\n  'Mire de nuevo.',\n  'Miren de nuevo.'],\n 'Look ahead.': ['Mirá hacia adelante.',\n  'Mira hacia adelante.',\n  'Mire hacia adelante.',\n  'Miren hacia adelante.'],\n 'Look at it.': ['Míralo.', 'Obsérvalo.', 'Contémplalo.'],\n 'Look at me.': ['Mírame.'],\n 'Look at us.': ['Míranos.', 'Obsérvanos.'],\n 'Look it up.': ['Búscalo.', 'Búsquenlo.'],\n 'Look there.': ['Mira allí.'],\n 'Love lasts.': ['El amor dura.'],\n 'Mama cried.': ['Mamá lloró.'],\n 'No comment.': ['Sin comentarios.'],\n 'No kidding?': ['¿En serio?'],\n 'No problem!': ['¡No hay problema!', '¡Sin problemas!'],\n 'No problem.': ['Ningún problema.'],\n 'Please sit.': ['Por favor, siéntese.',\n  'Por favor, siéntate.',\n  'Por favor, sentaos.'],\n 'Quiet down.': ['Baja la voz.'],\n 'Replace it.': ['Reemplazadlo.'],\n 'Say cheese.': ['Di patata.',\n  'Decid patata.',\n  'Di güisqui.',\n  'Decid güisqui.',\n  'Sonría.'],\n 'Say please.': ['Di \"por favor\".'],\n 'She is old.': ['Es vieja.'],\n 'She smiled.': ['Sonrió.'],\n \"She's busy.\": ['Ella está ocupada.'],\n \"She's nice.\": ['Es guapa.'],\n 'Sing along.': ['Canta.'],\n 'Smell this.': ['Huele esto.',\n  'Olé esto.',\n  'Huelan esto.',\n  'Oled esto.',\n  'Huela esto.'],\n 'Stand back!': ['¡Retrocede!'],\n 'Start here.': ['Empieza aquí.'],\n 'Start over.': ['Empieza de nuevo.'],\n 'Stay alert.': ['Mantente alerta.'],\n 'Stay awake.': ['Mantente consciente.',\n  'Mantente despierto.',\n  'No te duermas.'],\n 'Stay close.': ['Mantente cerca.',\n  'No te alejes de aquí.',\n  'Quédate a mi vera.'],\n 'Stay sharp.': ['Mantente alerta.'],\n 'Stay still.': ['No te muevas.', 'Quieto.'],\n 'Stay there.': ['Quédate ahí.'],\n 'Step aside.': ['Hazte a un lado.'],\n 'Step on it!': ['¡Más rápido!'],\n 'Stop lying.': ['Dejá de mentir.', 'Dejá de bolacear.'],\n 'Stop there.': ['Detente ahí.'],\n 'Study hard.': ['Estudia harto.'],\n 'Take a bus.': ['Toma un bus.'],\n 'Take notes.': ['Toma notas.'],\n 'Take these.': ['Llevate estos de aquí.', 'Quédate con estos.'],\n 'Talk to me!': ['¡Háblame!', '¡Habla conmigo!', '¡Hablad conmigo!'],\n 'Taste this.': ['Prueben esto.', 'Probá esto.', 'Prueba esto.'],\n 'That a boy!': ['¡Ése es mi chico!', 'Buen chico.'],\n 'That hurts.': ['Eso duele.'],\n 'That works.': ['Eso funciona.'],\n \"That'll do.\": ['Eso valdrá.',\n  'Con eso vale.',\n  'Eso me vale.',\n  'Eso me sirve.'],\n \"That's Tom.\": ['Ése es Tom.'],\n \"That's her.\": ['Ésa es ella.', 'Es ella.'],\n \"That's him.\": ['Ése es él.'],\n \"That's his.\": ['Eso le pertenece.', 'Eso le pertenece a él.'],\n \"That's new.\": ['Es nuevo.'],\n \"That's wet.\": ['Está mojado.'],\n 'They cheat.': ['Engañaron.', 'Hicieron trampas.'],\n 'They stood.': ['Se quedaron.', 'Se mantuvieron.'],\n 'They tried.': ['Lo intentaron.'],\n 'They voted.': ['Ellos votaron.', 'Votaron.'],\n \"They're in.\": ['Ellos están dentro.',\n  'Ellas están dentro.',\n  'Ellos se apuntan.'],\n 'This is OK.': ['Esto está bien.', 'Esto está correcto.'],\n 'This is it.': ['Hemos llegado.',\n  'Este es el fin.',\n  'Esto es todo.',\n  'Éste es.'],\n 'This works.': ['Esto funciona.', 'Esto trabaja.'],\n \"This'll do.\": ['Esto valdrá.', 'Con éste vale.', 'Esto me basta.'],\n 'Time flies.': ['El tiempo vuela.'],\n 'Time is up.': ['Se acabó el tiempo.'],\n 'Tom agreed.': ['Tom convino aquiescente.', 'Tom estuvo de acuerdo.'],\n 'Tom agrees.': ['Tomás está de acuerdo.'],\n 'Tom bit me.': ['Tom me mordió.'],\n 'Tom burped.': ['Tomás eructó.'],\n 'Tom called.': ['Tom llamó.'],\n 'Tom cheats.': ['Tomás hace trampa.'],\n 'Tom danced.': ['Tomás bailó.'],\n 'Tom dances.': ['Tom baila.'],\n 'Tom did it.': ['Tom lo hizo.'],\n 'Tom drinks.': ['Tom bebe.', 'Tom toma.'],\n 'Tom drives.': ['Tomás conduce.'],\n 'Tom failed.': ['Tom reprobó.', 'Tom fracasó.'],\n 'Tom forgot.': ['A Tom se le olvidó.'],\n 'Tom fought.': ['Tom peleó.', 'Tom luchó.'],\n 'Tom gasped.': ['Tom soltó un grito ahogado.',\n  'Tom se quedó sin aliento.',\n  'Tom dio un grito ahogado.'],\n 'Tom goofed.': ['Tom metió la pata.'],\n 'Tom got up.': ['Tom se levantó.'],\n 'Tom helped.': ['Tom ayudó.'],\n 'Tom hit me.': ['Tom me golpeó.'],\n 'Tom is bad.': ['Tom es malo.'],\n 'Tom is big.': ['Tom es grande.'],\n 'Tom is fat.': ['Tom está gordo.'],\n 'Tom is fun.': ['Tom es divertido.'],\n 'Tom is ill.': ['Tom está malo.'],\n 'Tom is mad.': ['Tom está loco.'],\n 'Tom is new.': ['Tom es nuevo.'],\n 'Tom is odd.': ['Tom es raro.'],\n 'Tom is old.': ['Tom es viejo.'],\n 'Tom is out.': ['Tom ha salido.'],\n 'Tom is sad.': ['Tom está triste.'],\n 'Tom is shy.': ['Tom es tímido.'],\n 'Tom is wet.': ['Tom está mojado.'],\n 'Tom jumped.': ['Tom saltó.'],\n 'Tom looked.': ['Tom miró.'],\n 'Tom moaned.': ['Tom gimió.'],\n 'Tom nodded.': ['Tom asintió.'],\n 'Tom obeyed.': ['Tom obedeció.'],\n 'Tom paused.': ['Tom se detuvo.'],\n 'Tom phoned.': ['Tomás llamó por teléfono.', 'Tomás telefoneó.'],\n 'Tom prayed.': ['Tom rezó.', 'Tom rezaba.'],\n 'Tom saw it.': ['Tom lo vio.'],\n 'Tom saw me.': ['Tom me vio.'],\n 'Tom saw us.': ['Tom nos vio.'],\n 'Tom shaved.': ['Tom se afeitó.', 'Tom se rasuró.'],\n 'Tom sighed.': ['Tom suspiró.'],\n 'Tom smiled.': ['Tom sonrió.'],\n 'Tom snores.': ['Tom ronca.'],\n 'Tom stayed.': ['Tom se quedó.'],\n 'Tom talked.': ['Tom charló.'],\n 'Tom waited.': ['Tomás esperó.'],\n 'Tom walked.': ['Tom caminó.'],\n 'Tom was OK.': ['Tom estaba bien.'],\n 'Tom winked.': ['Tom hizo un guiño.',\n  'Tom lanzó un guiño.',\n  'Tom guiñó el ojo.'],\n 'Tom worked.': ['Tom trabajó.'],\n 'Tom yawned.': ['Tom bostezó.'],\n 'Tom yelled.': ['Tom gritó.'],\n \"Tom'll cry.\": ['Tom llorará.'],\n \"Tom'll die.\": ['Tom morirá.'],\n \"Tom'll pay.\": ['Tom pagará.'],\n \"Tom's busy.\": ['Tom está ocupado.'],\n \"Tom's dead.\": ['Tom ha muerto.'],\n \"Tom's deaf.\": ['Tom es sordo.'],\n \"Tom's died.\": ['Tom ha muerto.'],\n \"Tom's fast.\": ['Tom es rápido.'],\n \"Tom's free.\": ['Tom es libre.'],\n \"Tom's glad.\": ['Tom está contento.'],\n \"Tom's gone.\": ['Tom se ha ido.'],\n \"Tom's here.\": ['Tom está aquí.'],\n \"Tom's home.\": ['Tom está en casa.'],\n \"Tom's hurt.\": ['Tom está herido.'],\n \"Tom's left.\": ['Tom se ha marchado.'],\n \"Tom's mean.\": ['Tom es malo.'],\n \"Tom's safe.\": ['Tom está seguro.'],\n \"Tom's shot.\": ['Tom fue disparado.'],\n \"Tom's sick.\": ['Tom está enfermo.'],\n \"Tom's ugly.\": ['Tom es feo.'],\n \"Tom's weak.\": ['Tom es débil.'],\n \"Tom's well.\": ['Tom está bien.'],\n 'Try it out.': ['Pruébalo.'],\n 'Turn it on.': ['Enciéndelo.'],\n 'Turn right.': ['Gira a la derecha.'],\n 'Was he Tom?': ['¿Era ése Tom?'],\n 'Was it fun?': ['¿Fue divertido?', '¿Era divertido?'],\n 'Watch this.': ['Mira esto.',\n  'Mirá esto.',\n  'Mirad esto.',\n  'Mire esto.',\n  'Miren esto.'],\n 'We are men.': ['Somos hombres.'],\n 'We buy CDs.': ['Compramos cedés.'],\n 'We can pay.': ['Nosotros podemos pagar.'],\n 'We can try.': ['Podemos intentarlo.',\n  'Podemos probarlo.',\n  'Podemos probar.'],\n 'We can win.': ['Podemos ganar.'],\n 'We had fun.': ['Nos divertimos.', 'Lo pasamos bien.'],\n 'We laughed.': ['Nos reímos.'],\n 'We like it.': ['Nos gusta.'],\n 'We love it.': ['Nos encanta.'],\n 'We made it.': ['Lo hicimos.'],\n 'We must go.': ['Nos debemos ir.', 'Debemos irnos.'],\n 'We saw Tom.': ['Vimos a Tom.'],\n 'We saw you.': ['Te vimos.', 'Te veíamos.'],\n 'We want it.': ['Lo queremos.'],\n \"We'll cook.\": ['Haremos la comida.'],\n \"We'll fail.\": ['Fracasaremos.'],\n \"We'll help.\": ['Ayudaremos.', 'Nosotros ayudaremos.', 'Echaremos la mano.'],\n \"We'll sing.\": ['Cantaremos.'],\n \"We'll wait.\": ['Esperaremos.', 'Nosotras esperaremos.'],\n \"We'll walk.\": ['Nos vamos a caminar.'],\n \"We'll work.\": ['Trabajaremos.'],\n \"We're back.\": ['Hemos vuelto.', 'Estamos de vuelta.', 'Hemos regresado.'],\n \"We're busy.\": ['Estamos ocupados.'],\n \"We're cold.\": ['Tenemos frío.'],\n \"We're done.\": ['Terminamos.'],\n \"We're even.\": ['Estamos a mano.'],\n \"We're fine.\": ['Estamos bien.'],\n \"We're here.\": ['Estamos acá.'],\n \"We're home.\": ['Estamos en casa.'],\n \"We're lost.\": ['Estamos perdidos.'],\n \"We're poor.\": ['Somos pobres.'],\n \"We're rich.\": ['Somos ricos.', 'Somos ricas.'],\n \"We're sick.\": ['Estamos hartos.'],\n \"We're weak.\": ['Somos débiles.'],\n 'What a day!': ['¡Pero qué día!'],\n 'What gives?': ['¿Qué pasa?', '¿Qué hay?'],\n \"What's new?\": ['¿Qué hay de nuevo?', '¿Qué me cuentas?'],\n 'Where am I?': ['¿Dónde estoy?', '¿En dónde estoy?'],\n ...}"
     },
     "execution_count": 2,
     "metadata": {},
     "output_type": "execute_result"
    }
   ],
   "source": [
    "eng2spa"
   ],
   "metadata": {
    "collapsed": false,
    "ExecuteTime": {
     "end_time": "2023-07-18T03:43:53.118863Z",
     "start_time": "2023-07-18T03:43:53.049634600Z"
    }
   }
  },
  {
   "cell_type": "code",
   "execution_count": 3,
   "outputs": [],
   "source": [
    "from nltk.translate.bleu_score import sentence_bleu, SmoothingFunction"
   ],
   "metadata": {
    "collapsed": false,
    "ExecuteTime": {
     "end_time": "2023-07-18T03:43:55.593618300Z",
     "start_time": "2023-07-18T03:43:53.620516600Z"
    }
   }
  },
  {
   "cell_type": "code",
   "execution_count": 4,
   "outputs": [],
   "source": [
    "from nltk.tokenize import RegexpTokenizer"
   ],
   "metadata": {
    "collapsed": false,
    "ExecuteTime": {
     "end_time": "2023-07-18T03:43:55.609431Z",
     "start_time": "2023-07-18T03:43:55.596416700Z"
    }
   }
  },
  {
   "cell_type": "code",
   "execution_count": 5,
   "outputs": [],
   "source": [
    "tokenizer = RegexpTokenizer(r'\\w+')"
   ],
   "metadata": {
    "collapsed": false,
    "ExecuteTime": {
     "end_time": "2023-07-18T03:43:56.050570Z",
     "start_time": "2023-07-18T03:43:56.033568900Z"
    }
   }
  },
  {
   "cell_type": "code",
   "execution_count": 6,
   "outputs": [
    {
     "data": {
      "text/plain": "['dónde', 'estoy']"
     },
     "execution_count": 6,
     "metadata": {},
     "output_type": "execute_result"
    }
   ],
   "source": [
    "tokenizer.tokenize('¿Dónde estoy?'.lower())"
   ],
   "metadata": {
    "collapsed": false,
    "ExecuteTime": {
     "end_time": "2023-07-18T03:43:56.707268Z",
     "start_time": "2023-07-18T03:43:56.681961700Z"
    }
   }
  },
  {
   "cell_type": "code",
   "execution_count": 7,
   "outputs": [
    {
     "name": "stderr",
     "output_type": "stream",
     "text": [
      "C:\\Users\\Andrei\\anaconda3\\envs\\torchenv\\lib\\site-packages\\nltk\\translate\\bleu_score.py:516: UserWarning: \n",
      "The hypothesis contains 0 counts of 3-gram overlaps.\n",
      "Therefore the BLEU score evaluates to 0, independently of\n",
      "how many N-gram overlaps of lower order it contains.\n",
      "Consider using lower n-gram order or use SmoothingFunction()\n",
      "  warnings.warn(_msg)\n",
      "C:\\Users\\Andrei\\anaconda3\\envs\\torchenv\\lib\\site-packages\\nltk\\translate\\bleu_score.py:516: UserWarning: \n",
      "The hypothesis contains 0 counts of 4-gram overlaps.\n",
      "Therefore the BLEU score evaluates to 0, independently of\n",
      "how many N-gram overlaps of lower order it contains.\n",
      "Consider using lower n-gram order or use SmoothingFunction()\n",
      "  warnings.warn(_msg)\n"
     ]
    },
    {
     "data": {
      "text/plain": "1.491668146240062e-154"
     },
     "execution_count": 7,
     "metadata": {},
     "output_type": "execute_result"
    }
   ],
   "source": [
    "tokens = tokenizer.tokenize('¿Dónde estoy?'.lower())\n",
    "sentence_bleu([tokens], tokens)"
   ],
   "metadata": {
    "collapsed": false,
    "ExecuteTime": {
     "end_time": "2023-07-18T03:43:57.590788300Z",
     "start_time": "2023-07-18T03:43:57.556675600Z"
    }
   }
  },
  {
   "cell_type": "code",
   "execution_count": 8,
   "outputs": [
    {
     "name": "stderr",
     "output_type": "stream",
     "text": [
      "C:\\Users\\Andrei\\anaconda3\\envs\\torchenv\\lib\\site-packages\\nltk\\translate\\bleu_score.py:516: UserWarning: \n",
      "The hypothesis contains 0 counts of 2-gram overlaps.\n",
      "Therefore the BLEU score evaluates to 0, independently of\n",
      "how many N-gram overlaps of lower order it contains.\n",
      "Consider using lower n-gram order or use SmoothingFunction()\n",
      "  warnings.warn(_msg)\n"
     ]
    },
    {
     "data": {
      "text/plain": "1.821831989445342e-231"
     },
     "execution_count": 8,
     "metadata": {},
     "output_type": "execute_result"
    }
   ],
   "source": [
    "sentence_bleu([['hi']], ['hi'])"
   ],
   "metadata": {
    "collapsed": false,
    "ExecuteTime": {
     "end_time": "2023-07-18T03:43:58.406820800Z",
     "start_time": "2023-07-18T03:43:58.378091100Z"
    }
   }
  },
  {
   "cell_type": "code",
   "execution_count": 9,
   "outputs": [
    {
     "data": {
      "text/plain": "3.1145782937548705"
     },
     "execution_count": 9,
     "metadata": {},
     "output_type": "execute_result"
    }
   ],
   "source": [
    "smoother = SmoothingFunction()\n",
    "sentence_bleu(['hi'], 'hi', smoothing_function=smoother.method4)"
   ],
   "metadata": {
    "collapsed": false,
    "ExecuteTime": {
     "end_time": "2023-07-18T03:43:59.047870800Z",
     "start_time": "2023-07-18T03:43:59.018865700Z"
    }
   }
  },
  {
   "cell_type": "code",
   "execution_count": 10,
   "outputs": [
    {
     "data": {
      "text/plain": "1.491668146240062e-154"
     },
     "execution_count": 10,
     "metadata": {},
     "output_type": "execute_result"
    }
   ],
   "source": [
    "sentence_bleu(['hi there'.split()], 'hi there'.split())"
   ],
   "metadata": {
    "collapsed": false,
    "ExecuteTime": {
     "end_time": "2023-07-18T03:43:59.622407800Z",
     "start_time": "2023-07-18T03:43:59.604391900Z"
    }
   }
  },
  {
   "cell_type": "code",
   "execution_count": 11,
   "outputs": [],
   "source": [
    "eng2spa_tokens = {}\n",
    "for eng, spa_list in eng2spa.items():\n",
    "    spa_list_tokens = []\n",
    "    for text in spa_list:\n",
    "        tokens = tokenizer.tokenize(text.lower())\n",
    "        spa_list_tokens.append(tokens)\n",
    "    eng2spa_tokens[eng] = spa_list_tokens"
   ],
   "metadata": {
    "collapsed": false,
    "ExecuteTime": {
     "end_time": "2023-07-18T03:44:00.813916500Z",
     "start_time": "2023-07-18T03:44:00.218693500Z"
    }
   }
  },
  {
   "cell_type": "code",
   "execution_count": 12,
   "outputs": [
    {
     "data": {
      "text/plain": "Downloading (…)olve/main/source.spm:   0%|          | 0.00/802k [00:00<?, ?B/s]",
      "application/vnd.jupyter.widget-view+json": {
       "version_major": 2,
       "version_minor": 0,
       "model_id": "2ca63116f6084d56ba244e192dd423cc"
      }
     },
     "metadata": {},
     "output_type": "display_data"
    },
    {
     "name": "stderr",
     "output_type": "stream",
     "text": [
      "C:\\Users\\Andrei\\anaconda3\\envs\\torchenv\\lib\\site-packages\\huggingface_hub\\file_download.py:133: UserWarning: `huggingface_hub` cache-system uses symlinks by default to efficiently store duplicated files but your machine does not support them in C:\\Users\\Andrei\\.cache\\huggingface\\hub. Caching files will still work but in a degraded version that might require more space on your disk. This warning can be disabled by setting the `HF_HUB_DISABLE_SYMLINKS_WARNING` environment variable. For more details, see https://huggingface.co/docs/huggingface_hub/how-to-cache#limitations.\n",
      "To support symlinks on Windows, you either need to activate Developer Mode or to run Python as an administrator. In order to see activate developer mode, see this article: https://docs.microsoft.com/en-us/windows/apps/get-started/enable-your-device-for-development\n",
      "  warnings.warn(message)\n"
     ]
    },
    {
     "data": {
      "text/plain": "Downloading (…)olve/main/target.spm:   0%|          | 0.00/826k [00:00<?, ?B/s]",
      "application/vnd.jupyter.widget-view+json": {
       "version_major": 2,
       "version_minor": 0,
       "model_id": "6da601d7e3f0437ca83de2d5e5426fae"
      }
     },
     "metadata": {},
     "output_type": "display_data"
    },
    {
     "data": {
      "text/plain": "Downloading (…)olve/main/vocab.json:   0%|          | 0.00/1.59M [00:00<?, ?B/s]",
      "application/vnd.jupyter.widget-view+json": {
       "version_major": 2,
       "version_minor": 0,
       "model_id": "0edc49cb437c4cba98d6a23583b89748"
      }
     },
     "metadata": {},
     "output_type": "display_data"
    },
    {
     "name": "stderr",
     "output_type": "stream",
     "text": [
      "C:\\Users\\Andrei\\anaconda3\\envs\\torchenv\\lib\\site-packages\\transformers\\models\\marian\\tokenization_marian.py:194: UserWarning: Recommended: pip install sacremoses.\n",
      "  warnings.warn(\"Recommended: pip install sacremoses.\")\n"
     ]
    }
   ],
   "source": [
    "from transformers import pipeline\n",
    "\n",
    "translator = pipeline(\"translation\", model='Helsinki-NLP/opus-mt-en-es')"
   ],
   "metadata": {
    "collapsed": false,
    "ExecuteTime": {
     "end_time": "2023-07-18T03:44:11.969055700Z",
     "start_time": "2023-07-18T03:44:01.531349300Z"
    }
   }
  },
  {
   "cell_type": "code",
   "execution_count": 13,
   "outputs": [
    {
     "data": {
      "text/plain": "[{'translation_text': 'Me gustan los huevos y el jamón.'}]"
     },
     "execution_count": 13,
     "metadata": {},
     "output_type": "execute_result"
    }
   ],
   "source": [
    "translator('I like eggs and ham')"
   ],
   "metadata": {
    "collapsed": false,
    "ExecuteTime": {
     "end_time": "2023-07-18T03:44:14.981813300Z",
     "start_time": "2023-07-18T03:44:14.525218Z"
    }
   }
  },
  {
   "cell_type": "code",
   "execution_count": 14,
   "outputs": [
    {
     "data": {
      "text/plain": "102904"
     },
     "execution_count": 14,
     "metadata": {},
     "output_type": "execute_result"
    }
   ],
   "source": [
    "eng_phrases = list(eng2spa.keys())\n",
    "len(eng_phrases)"
   ],
   "metadata": {
    "collapsed": false,
    "ExecuteTime": {
     "end_time": "2023-07-18T03:44:15.005963500Z",
     "start_time": "2023-07-18T03:44:14.977811100Z"
    }
   }
  },
  {
   "cell_type": "code",
   "execution_count": 15,
   "outputs": [],
   "source": [
    "eng_phrases_subset = eng_phrases[20_000:21_000]"
   ],
   "metadata": {
    "collapsed": false,
    "ExecuteTime": {
     "end_time": "2023-07-18T03:44:15.696884100Z",
     "start_time": "2023-07-18T03:44:15.685887700Z"
    }
   }
  },
  {
   "cell_type": "code",
   "execution_count": 16,
   "outputs": [],
   "source": [
    "translations = translator(eng_phrases_subset)"
   ],
   "metadata": {
    "collapsed": false,
    "ExecuteTime": {
     "end_time": "2023-07-18T03:49:39.328179800Z",
     "start_time": "2023-07-18T03:44:16.175474400Z"
    }
   }
  },
  {
   "cell_type": "code",
   "execution_count": 17,
   "outputs": [
    {
     "data": {
      "text/plain": "{'translation_text': 'Tom está en el jardín.'}"
     },
     "execution_count": 17,
     "metadata": {},
     "output_type": "execute_result"
    }
   ],
   "source": [
    "translations[0]"
   ],
   "metadata": {
    "collapsed": false,
    "ExecuteTime": {
     "end_time": "2023-07-18T03:49:39.344179600Z",
     "start_time": "2023-07-18T03:49:39.331179700Z"
    }
   }
  },
  {
   "cell_type": "code",
   "execution_count": 21,
   "outputs": [
    {
     "data": {
      "text/plain": "['Tom is in the garden.',\n 'Tom is in the shower.',\n 'Tom is just like you.',\n 'Tom is looking at us.',\n 'Tom is my only child.',\n 'Tom is never on time.',\n 'Tom is not a student.',\n 'Tom is not religious.',\n 'Tom is now in prison.',\n 'Tom is old-fashioned.',\n 'Tom is overemotional.',\n 'Tom is playing piano.',\n 'Tom is proud of Mary.',\n 'Tom is quite popular.',\n 'Tom is scolding Mary.',\n 'Tom is seeking a job.',\n 'Tom is self employed.',\n 'Tom is sending a fax.',\n 'Tom is short and fat.',\n 'Tom is still baffled.',\n 'Tom is still sitting.',\n 'Tom is still waiting.',\n 'Tom is still worried.',\n 'Tom is studying hard.',\n 'Tom is taking a rest.',\n 'Tom is the defendant.',\n 'Tom is the real hero.',\n 'Tom is very handsome.',\n 'Tom is very reliable.',\n 'Tom is very romantic.',\n 'Tom is very thorough.',\n 'Tom is watching golf.',\n 'Tom is working there.',\n \"Tom isn't a Canadian.\",\n \"Tom isn't a stranger.\",\n \"Tom isn't lonely now.\",\n \"Tom isn't optimistic.\",\n \"Tom isn't that young.\",\n \"Tom isn't well today.\",\n 'Tom just got married.',\n 'Tom knocked him down.',\n 'Tom knows a shortcut.',\n 'Tom knows the answer.',\n 'Tom knows the secret.',\n 'Tom knows the stakes.',\n 'Tom knows this place.',\n 'Tom knows what I did.',\n 'Tom lacks discipline.',\n 'Tom lacks experience.',\n 'Tom lacks motivation.',\n 'Tom laughed out loud.',\n 'Tom left Mary a note.',\n 'Tom left at midnight.',\n 'Tom likes arithmetic.',\n 'Tom likes basketball.',\n 'Tom looked petrified.',\n 'Tom looked surprised.',\n 'Tom looks frustrated.',\n 'Tom looks interested.',\n 'Tom looks nonplussed.',\n 'Tom looks very happy.',\n 'Tom loosened his tie.',\n 'Tom lost his car key.',\n 'Tom lost his glasses.',\n 'Tom lost his hearing.',\n 'Tom lost some weight.',\n 'Tom lost their trust.',\n 'Tom made fun of Mary.',\n 'Tom makes Mary happy.',\n 'Tom may be in danger.',\n 'Tom means us no harm.',\n 'Tom mopped the floor.',\n 'Tom must be Canadian.',\n 'Tom needed attention.',\n 'Tom needed some cash.',\n 'Tom needed the money.',\n 'Tom needs a vacation.',\n 'Tom needs our advice.',\n 'Tom needs some sleep.',\n 'Tom needs the ladder.',\n 'Tom never forgave me.',\n 'Tom never had doubts.',\n 'Tom never liked Mary.',\n 'Tom never says hello.',\n 'Tom never touched me.',\n 'Tom often calls Mary.',\n 'Tom often cuts class.',\n 'Tom often helps Mary.',\n 'Tom opened his mouth.',\n 'Tom overpowered Mary.',\n 'Tom paid a $300 fine.',\n 'Tom paid the cashier.',\n 'Tom peeled the apple.',\n 'Tom poisoned himself.',\n 'Tom proposed to Mary.',\n 'Tom put down his pen.',\n 'Tom put his shirt on.',\n 'Tom put his shoes on.',\n 'Tom put on his shoes.',\n 'Tom put on his socks.',\n 'Tom put out the fire.',\n 'Tom put the gun down.',\n 'Tom raised his hands.',\n 'Tom raised his voice.',\n 'Tom ran for his life.',\n 'Tom ran out of money.',\n 'Tom ran out of water.',\n 'Tom recommended Mary.',\n 'Tom refused to budge.',\n 'Tom reloaded his gun.',\n 'Tom reluctantly left.',\n 'Tom remained outside.',\n 'Tom resumed speaking.',\n 'Tom rewound the tape.',\n 'Tom rinsed his mouth.',\n 'Tom said he knew you.',\n 'Tom said he was poor.',\n 'Tom said he was sick.',\n 'Tom said very little.',\n 'Tom sat next to Mary.',\n 'Tom sat on the fence.',\n 'Tom sat on the floor.',\n 'Tom sat under a tree.',\n 'Tom saw Mary smiling.',\n 'Tom saw the exhibits.',\n 'Tom saw the pictures.',\n 'Tom seems distracted.',\n 'Tom seems mesmerized.',\n 'Tom seems reasonable.',\n 'Tom seems to be lost.',\n 'Tom seems to be poor.',\n 'Tom seems to be rich.',\n 'Tom seems to be sick.',\n 'Tom seems unreliable.',\n 'Tom seems very happy.',\n 'Tom sells fertilizer.',\n 'Tom shook Mary awake.',\n 'Tom should be jailed.',\n 'Tom should be warned.',\n 'Tom should get a job.',\n 'Tom should get going.',\n 'Tom should know that.',\n 'Tom should leave now.',\n 'Tom should talk less.',\n \"Tom should've called.\",\n 'Tom shouted for help.',\n 'Tom sings quite well.',\n 'Tom slept in the car.',\n 'Tom slept on the bus.',\n 'Tom spilled the milk.',\n 'Tom started coughing.',\n 'Tom started dreaming.',\n 'Tom started mumbling.',\n 'Tom started to cough.',\n 'Tom started to snore.',\n 'Tom stifled a scream.',\n 'Tom still loves Mary.',\n 'Tom still wants Mary.',\n 'Tom stirred the soup.',\n 'Tom stopped cleaning.',\n 'Tom stopped speaking.',\n 'Tom took off his hat.',\n 'Tom took off his tie.',\n 'Tom took off his wig.',\n 'Tom tried not to cry.',\n 'Tom tried to save me.',\n 'Tom turned on the TV.',\n 'Tom turned up the TV.',\n 'Tom understands Mary.',\n 'Tom untied the ropes.',\n 'Tom waited anxiously.',\n 'Tom waited patiently.',\n 'Tom wanted Mary dead.',\n 'Tom wanted a bicycle.',\n 'Tom wanted me to lie.',\n 'Tom wanted to buy it.',\n 'Tom wanted to see me.',\n 'Tom wants a new coat.',\n 'Tom wants a sandwich.',\n 'Tom wants to kill us.',\n 'Tom wants to meet me.',\n 'Tom wants to see you.',\n 'Tom wants to sell it.',\n 'Tom wants to stop us.',\n 'Tom wants us to talk.',\n 'Tom wants you to eat.',\n 'Tom was a bad person.',\n 'Tom was a bookkeeper.',\n 'Tom was a coal miner.',\n 'Tom was a lumberjack.',\n 'Tom was all worn out.',\n 'Tom was born in 2013.',\n 'Tom was caught lying.',\n 'Tom was electrocuted.',\n 'Tom was found guilty.',\n 'Tom was good at that.',\n 'Tom was hard on Mary.',\n 'Tom was held hostage.',\n 'Tom was here all day.',\n 'Tom was hospitalized.',\n 'Tom was in the cabin.',\n 'Tom was on the fence.',\n 'Tom was on the floor.',\n 'Tom was on the phone.',\n 'Tom was pretty tough.',\n 'Tom was proven right.',\n 'Tom was really drunk.',\n 'Tom was really tired.',\n 'Tom was scared of me.',\n 'Tom was unsuccessful.',\n 'Tom was up all night.',\n 'Tom was very patient.',\n \"Tom wasn't convinced.\",\n \"Tom wasn't even hurt.\",\n \"Tom wasn't listening.\",\n \"Tom wasn't satisfied.\",\n 'Tom watched silently.',\n 'Tom went back inside.',\n 'Tom went in my place.',\n 'Tom went into hiding.',\n 'Tom went to the park.',\n 'Tom will arrive soon.',\n 'Tom will be thrilled.',\n 'Tom will contact you.',\n 'Tom will forgive you.',\n 'Tom won the argument.',\n \"Tom won't believe us.\",\n 'Tom worked all night.',\n 'Tom worked with Mary.',\n 'Tom worries too much.',\n \"Tom wouldn't approve.\",\n \"Tom wouldn't do that.\",\n \"Tom wouldn't say yes.\",\n 'Tom wrote the report.',\n 'Tom wrote the script.',\n \"Tom's Mary's brother.\",\n \"Tom's car broke down.\",\n \"Tom's cellphone rang.\",\n \"Tom's father is rich.\",\n \"Tom's feet felt numb.\",\n \"Tom's leg is healing.\",\n \"Tom's making his bed.\",\n \"Tom's smile vanished.\",\n 'Tomorrow never comes.',\n \"Tomorrow's a holiday.\",\n 'Tonight is the night.',\n 'Too much is at stake.',\n 'Toss the ball to Tom.',\n 'True love never ends.',\n 'Trust your intuition.',\n 'Try this on for size.',\n 'Try to be brave, Tom.',\n 'Try to figure it out.',\n 'Turn on the ignition.',\n 'Turtles are reptiles.',\n 'Unemployment is high.',\n 'Use your imagination.',\n 'Visitors are welcome.',\n 'Wait for your sister.',\n 'Wait in line, please.',\n 'Was I talking to you?',\n 'Was Tom at the party?',\n 'Was Tom ever married?',\n 'Was Tom on your team?',\n 'Was anybody in there?',\n 'Was anyone surprised?',\n 'Was he really boring?',\n 'Was there an autopsy?',\n 'Wash your hands well.',\n 'Water reflects light.',\n 'We all have families.',\n 'We all have problems.',\n 'We all knew about it.',\n 'We all make mistakes.',\n 'We all speak English.',\n 'We all work together.',\n 'We are at home today.',\n 'We are boiling water.',\n 'We are eleven in all.',\n 'We are in the forest.',\n 'We are not Americans.',\n 'We are out of danger.',\n 'We are two of a kind.',\n 'We arrived home late.',\n 'We came to apologize.',\n \"We can't give up now.\",\n \"We can't go home yet.\",\n 'We clapped our hands.',\n 'We did nothing wrong.',\n \"We didn't discuss it.\",\n \"We didn't do a thing.\",\n \"We don't accept tips.\",\n \"We don't do anything.\",\n \"We don't have a pool.\",\n \"We don't want to die.\",\n 'We elected her mayor.',\n 'We elected him mayor.',\n 'We expect rain today.',\n 'We finished the work.',\n 'We had fun with them.',\n 'We had lunch at noon.',\n 'We had to let Tom go.',\n 'We have a nice house.',\n 'We have an advantage.',\n 'We have an agreement.',\n 'We have an emergency.',\n 'We have enough water.',\n 'We have fun together.',\n 'We have strict rules.',\n 'We have to surrender.',\n 'We have to tell them.',\n 'We have two children.',\n 'We hugged each other.',\n 'We just want to talk.',\n 'We kissed last night.',\n 'We know what we want.',\n 'We know what you did.',\n 'We know where Tom is.',\n 'We know who did this.',\n 'We leave immediately.',\n 'We live together now.',\n 'We lost sight of him.',\n 'We love our children.',\n 'We made him go there.',\n 'We make a great team.',\n 'We may win this time.',\n 'We met the other day.',\n 'We must go to school.',\n 'We must move quickly.',\n 'We need an ambulance.',\n 'We need more workers.',\n 'We need to chat soon.',\n 'We need to cut costs.',\n 'We need your support.',\n 'We now work together.',\n 'We partied all night.',\n 'We require your help.',\n 'We saw the car start.',\n 'We see him every day.',\n 'We see with our eyes.',\n 'We sell orange juice.',\n 'We shared everything.',\n 'We should be worried.',\n 'We should set a trap.',\n 'We still want to win.',\n 'We suspect poisoning.',\n 'We traveled together.',\n 'We waited until 2:30.',\n 'We want to be strong.',\n 'We want to make sure.',\n 'We want to negotiate.',\n 'We watch TV together.',\n 'We went to the beach.',\n 'We were having lunch.',\n 'We were really tight.',\n 'We were under attack.',\n 'We were unsuccessful.',\n 'We were working late.',\n 'We were younger then.',\n \"We won't forgive you.\",\n 'We work in a factory.',\n \"We'll always be here.\",\n \"We'll do it together.\",\n \"We'll do it tomorrow.\",\n \"We'll eat on the way.\",\n \"We'll get through it.\",\n \"We'll help you, okay?\",\n \"We'll play it by ear.\",\n \"We're about to start.\",\n \"We're about your age.\",\n \"We're all a team now.\",\n \"We're all equal here.\",\n \"We're always careful.\",\n \"We're an hour behind.\",\n \"We're being attacked.\",\n \"We're both named Tom.\",\n \"We're busy right now.\",\n \"We're coming at once.\",\n \"We're eating popcorn.\",\n \"We're getting closer.\",\n \"We're getting sloppy.\",\n \"We're going to fight.\",\n \"We're leaving Boston.\",\n \"We're not interested.\",\n \"We're not terrorists.\",\n \"We're out of bullets.\",\n \"We're out of options.\",\n \"We're planting seeds.\",\n \"We're ready to leave.\",\n \"We're short of money.\",\n \"We're still checking.\",\n \"We're still together.\",\n \"We're the new owners.\",\n \"We're too vulnerable.\",\n \"We're your neighbors.\",\n \"We've all been there.\",\n \"We've already chosen.\",\n \"We've altered course.\",\n \"We've been sabotaged.\",\n \"We've discussed this.\",\n \"We've done it before.\",\n \"We've figured it out.\",\n \"We've run out of tea.\",\n 'Were you with anyone?',\n 'What a beautiful day!',\n 'What a dignified man!',\n 'What a hot day it is!',\n 'What a nice surprise!',\n 'What a perfect night!',\n 'What a selfish woman!',\n 'What a strange story!',\n 'What about your wife?',\n 'What am I doing here?',\n 'What are friends for?',\n 'What are they hiding?',\n 'What are they saying?',\n 'What are we here for?',\n 'What are you cooking?',\n 'What are you good at?',\n 'What are you reading?',\n 'What are you writing?',\n 'What are your duties?',\n 'What brings you here?',\n 'What can you give me?',\n 'What car did he take?',\n 'What day is it again?',\n 'What day is it today?',\n 'What did Bell invent?',\n 'What did Galileo see?',\n 'What did I trip over?',\n 'What did Tom call me?',\n 'What did Tom do here?',\n 'What did Tom do then?',\n 'What did the boy say?',\n 'What did you do then?',\n 'What did you give me?',\n 'What do I have to do?',\n 'What do you remember?',\n 'What do you want now?',\n 'What does Tom do now?',\n 'What does it involve?',\n 'What else can you do?',\n 'What happened to Tom?',\n 'What happened to him?',\n 'What happened to you?',\n 'What happens at 2:30?',\n 'What he said is true.',\n 'What he says is true.',\n \"What if you're wrong?\",\n 'What is bullfighting?',\n 'What is he doing now?',\n 'What is he up to now?',\n \"What is today's date?\",\n 'What is two plus two?',\n 'What is your address?',\n 'What is your problem?',\n 'What made her so sad?',\n 'What makes you happy?',\n 'What must you do now?',\n 'What page are you on?',\n 'What should I do now?',\n 'What was Boston like?',\n 'What was the outcome?',\n 'What was the problem?',\n 'What we need is help.',\n 'What were you saying?',\n 'What will I tell Tom?',\n 'What you say is true.',\n \"What're you drinking?\",\n \"What're you thinking?\",\n \"What's Tom's problem?\",\n \"What's going on here?\",\n \"What's in the bottle?\",\n \"What's that building?\",\n \"What's the emergency?\",\n \"What's the good news?\",\n \"What's their purpose?\",\n \"What's wrong with me?\",\n \"What's your nickname?\",\n 'Whatever do you mean?',\n 'When can I visit you?',\n 'When did he fall ill?',\n 'When did he get back?',\n 'When did this happen?',\n 'When did you ask Tom?',\n 'When did you go home?',\n 'When did you see Tom?',\n 'When did you see her?',\n 'When did you see him?',\n 'When was it finished?',\n 'When will he be back?',\n 'When will he be busy?',\n 'When will he go home?',\n 'When will that occur?',\n 'When will we go home?',\n 'When will you return?',\n \"When's dinner served?\",\n \"Where are Tom's keys?\",\n 'Where are my glasses?',\n 'Where are my watches?',\n 'Where are the apples?',\n 'Where are the dishes?',\n 'Where are the guards?',\n 'Where are the horses?',\n 'Where are the plates?',\n 'Where are we exactly?',\n 'Where are you hiding?',\n 'Where are you living?',\n 'Where are you off to?',\n 'Where can I buy silk?',\n 'Where can I find Tom?',\n 'Where can I find him?',\n 'Where did Tom buy it?',\n 'Where did you buy it?',\n 'Where did you get it?',\n 'Where do you want it?',\n \"Where is Tom's house?\",\n 'Where is my umbrella?',\n 'Where is the blanket?',\n 'Where is the kitchen?',\n 'Where is the library?',\n 'Where is the mailbox?',\n 'Where is the problem?',\n 'Where is the station?',\n 'Where is your father?',\n 'Where is your friend?',\n 'Where is your jacket?',\n 'Where is your sister?',\n 'Where shall we begin?',\n 'Where should we hide?',\n 'Where should we meet?',\n 'Where was Tom hiding?',\n 'Where were you going?',\n \"Where's Mary's purse?\",\n \"Where's Tom sleeping?\",\n \"Where's Tom's office?\",\n \"Where's the bathroom?\",\n \"Where's the bus stop?\",\n \"Where's the director?\",\n \"Where's the entrance?\",\n \"Where's the hospital?\",\n \"Where's the restroom?\",\n \"Where's your uniform?\",\n 'Which did you choose?',\n 'Which diet is better?',\n 'Which is your guitar?',\n 'Which is your target?',\n \"Which ones are Tom's?\",\n 'Who are these people?',\n 'Who are those people?',\n 'Who are you to judge?',\n 'Who are your enemies?',\n 'Who are your parents?',\n 'Who ate all the pies?',\n 'Who broke the window?',\n 'Who built this place?',\n 'Who cares about that?',\n 'Who deleted the file?',\n 'Who did Pizarro kill?',\n 'Who do you live with?',\n 'Who do you stay with?',\n 'Who does he work for?',\n 'Who gave the command?',\n 'Who invented karaoke?',\n 'Who invited you guys?',\n 'Who is he talking to?',\n 'Who is the boss here?',\n 'Who let the dogs out?',\n 'Who made these rules?',\n 'Who on earth are you?',\n 'Who pays your salary?',\n 'Who planted the tree?',\n 'Who runs things here?',\n 'Who said I had a gun?',\n 'Who said that to you?',\n 'Who sent the flowers?',\n 'Who stole the apples?',\n 'Who told you my name?',\n 'Who took the picture?',\n 'Who wants to go next?',\n 'Who will outwit whom?',\n 'Who wrote the letter?',\n \"Who's Tom talking to?\",\n \"Who's coming with me?\",\n \"Who's in charge here?\",\n \"Who's ready for more?\",\n \"Who's your boyfriend?\",\n 'Whose friend are you?',\n 'Whose guitar is this?',\n 'Whose letter is this?',\n 'Whose office is this?',\n 'Whose pencil is this?',\n 'Why are you all here?',\n 'Why are you laughing?',\n 'Why are you so angry?',\n 'Why are you so awful?',\n 'Why are you so happy?',\n 'Why are you so quiet?',\n 'Why are you so smart?',\n 'Why are you so tired?',\n 'Why are you studying?',\n 'Why are you sweating?',\n 'Why did Tom call you?',\n 'Why did Tom say that?',\n 'Why did you fire Tom?',\n 'Why did you run away?',\n 'Why did you say that?',\n \"Why didn't that work?\",\n \"Why didn't you do it?\",\n 'Why do you come here?',\n 'Why do you ignore me?',\n 'Why do you know that?',\n 'Why do you permit it?',\n 'Why do you want this?',\n 'Why do you work here?',\n 'Why does Tom hate me?',\n \"Why doesn't Tom talk?\",\n \"Why don't I call you?\",\n \"Why don't we go home?\",\n \"Why don't you answer?\",\n \"Why don't you try it?\",\n 'Why is Tom mad at me?',\n 'Why is Tom so gloomy?',\n 'Why is he doing this?',\n 'Why is she so silent?',\n \"Why isn't it working?\",\n 'Why not go to Boston?',\n 'Why should they hide?',\n 'Why were you yelling?',\n 'Will I see Tom later?',\n 'Will I see you later?',\n 'Will he be here soon?',\n 'Will surgery help it?',\n 'Will the police come?',\n 'Will there be a cake?',\n 'Will this be painful?',\n 'Will you come or not?',\n 'Will you go by train?',\n 'Will you go with Tom?',\n 'Will you really come?',\n 'Will you try this on?',\n 'Will you wait for me?',\n \"Women don't like Tom.\",\n 'Women worked at home.',\n \"Won't Tom be jealous?\",\n 'Would Tom lie to you?',\n 'Would you forgive me?',\n 'Would you like a dog?',\n 'Would you like bread?',\n 'Would you like to go?',\n 'Would you prefer tea?',\n 'Would you step aside?',\n 'Write down each word.',\n 'Write your full name.',\n 'Yesterday was Monday.',\n 'Yesterday was cloudy.',\n 'You almost killed me.',\n 'You are a bad person.',\n 'You are a workaholic.',\n 'You are all diligent.',\n 'You are irresistible.',\n 'You are new students.',\n 'You are not Japanese.',\n 'You are now an adult.',\n 'You are under arrest.',\n 'You are very elegant.',\n 'You are welcome here.',\n \"You aren't my mother.\",\n 'You asked me to help.',\n 'You can come with us.',\n 'You can count me out.',\n 'You can count on him.',\n 'You can live with me.',\n 'You can use this pen.',\n 'You can wait outside.',\n \"You can't be a woman.\",\n \"You can't be so sure.\",\n \"You can't blame them.\",\n \"You can't ignore Tom.\",\n \"You can't sleep here.\",\n \"You can't smoke here.\",\n 'You cannot swim here.',\n 'You catch on quickly.',\n \"You didn't answer me.\",\n \"You didn't invite me.\",\n \"You don't have to go.\",\n \"You don't look angry.\",\n \"You don't need to go.\",\n \"You don't understand.\",\n 'You go on without me.',\n 'You have a great job.',\n 'You have been warned.',\n 'You have my sympathy.',\n 'You have not seen it.',\n 'You have to call Tom.',\n 'You have to go alone.',\n 'You just made my day.',\n 'You know I hate that.',\n \"You know I'm married.\",\n 'You know we love you.',\n 'You know what I like.',\n 'You know what I mean.',\n 'You know what I need.',\n 'You know you need it.',\n 'You lack imagination.',\n 'You let me down, Tom.',\n 'You lied to me again.',\n 'You live in my heart.',\n 'You look happy today.',\n 'You look really good.',\n \"You lost, didn't you?\",\n 'You mean a lot to me.',\n 'You must be Canadian.',\n 'You must be cautious.',\n 'You must be mistaken.',\n 'You must be starving.',\n 'You must not come in.',\n \"You mustn't touch it.\",\n 'You need a boyfriend.',\n 'You need to be there.',\n 'You need to rest now.',\n 'You overestimate him.',\n 'You seem happy to me.',\n 'You seem nice enough.',\n 'You seem pretty busy.',\n 'You seem pretty nice.',\n 'You seem quite happy.',\n 'You seem really busy.',\n 'You seem resourceful.',\n 'You seem to be angry.',\n 'You seem to be bored.',\n 'You seem to be drunk.',\n 'You seem to be lying.',\n 'You seem to be tired.',\n 'You seem unconcerned.',\n 'You seem unperturbed.',\n 'You seem very scared.',\n 'You seem very sleepy.',\n 'You should be in bed.',\n 'You should know that.',\n 'You should marry Tom.',\n 'You should not sleep.',\n 'You should read more.',\n 'You should read this.',\n 'You should stop that.',\n \"You should've called.\",\n \"You should've waited.\",\n 'You snooze, you lose.',\n 'You two come with me.',\n 'You were never alone.',\n \"You weren't that bad.\",\n 'You will be punished.',\n \"You won't believe me.\",\n \"You'd better come in.\",\n \"You'll embarrass Tom.\",\n \"You'll figure it out.\",\n \"You'll get well soon.\",\n \"You'll have to start.\",\n \"You'll never find it.\",\n \"You'll never stop me.\",\n \"You're German, right?\",\n \"You're a crazy woman.\",\n \"You're a filthy liar!\",\n \"You're a good doctor.\",\n \"You're a good father.\",\n \"You're a good friend.\",\n \"You're a good mother.\",\n \"You're a kind person.\",\n \"You're a real friend.\",\n \"You're afraid of him.\",\n \"You're always around.\",\n \"You're among friends.\",\n \"You're being evasive.\",\n \"You're being watched.\",\n \"You're depressing me.\",\n \"You're free to leave.\",\n \"You're going too far.\",\n \"You're my girlfriend.\",\n \"You're never at home.\",\n \"You're not listening.\",\n \"You're not my father.\",\n \"You're not one of us.\",\n \"You're opportunistic.\",\n \"You're overconfident.\",\n \"You're overemotional.\",\n \"You're really clumsy.\",\n \"You're so mysterious.\",\n \"You're still smiling.\",\n \"You're such a gossip.\",\n \"You're tempting fate.\",\n \"You're the scapegoat.\",\n \"You've gained weight.\",\n \"You've got a problem.\",\n \"You've got my helmet.\",\n \"You've got nice legs.\",\n \"You've got to fix it.\",\n \"You've got to get up.\",\n \"You've gotten better.\",\n \"You've grown so tall.\",\n \"You've hurt me a lot.\",\n \"You've misunderstood.\",\n \"You've put on weight.\",\n 'Your answer is right.',\n 'Your answer is wrong.',\n 'Your dog is very big.',\n 'Your dog is very fat.',\n 'Your mother loves me.',\n 'Your pants are dirty.',\n \"Your phone's ringing.\",\n 'Your pulse is normal.',\n 'Your son is a genius.',\n 'A cat has seven lives.',\n 'A cow has a long tail.',\n 'A dolphin is a mammal.',\n 'A little bird told me.',\n 'A lot of people do it.',\n 'A man came to see him.',\n 'A week has seven days.',\n 'Above all, be patient.',\n 'Accidents will happen.',\n 'Afghanistan is at war.',\n 'All of these are mine.',\n 'All of us were silent.',\n 'All this is new to me.',\n 'All we can do is wait.',\n 'Always arrive on time.',\n 'Always tell the truth.',\n 'Am I talking too fast?',\n 'America is very large.',\n \"And now, it's my turn!\",\n 'Any child can do that.',\n 'Anybody could do this.',\n 'Anything could happen.',\n 'Anyway, I did my best.',\n 'Are these your horses?',\n 'Are they all the same?',\n 'Are those my slippers?',\n \"Are you Tom's brother?\",\n 'Are you a doctor, sir?',\n 'Are you afraid of Tom?',\n 'Are you an only child?',\n 'Are you angry with me?',\n 'Are you as tall as me?',\n 'Are you back home now?',\n 'Are you being serious?',\n 'Are you coming or not?',\n 'Are you feeling tired?',\n 'Are you fond of music?',\n 'Are you free tomorrow?',\n 'Are you getting bored?',\n 'Are you getting tired?',\n 'Are you going to hide?',\n 'Are you going to sing?',\n 'Are you in Boston now?',\n 'Are you looking at me?',\n 'Are you satisfied now?',\n 'Are you sleeping, Tom?',\n 'Are you still at home?',\n 'Are you still at work?',\n 'Are you still in love?',\n 'Are you still married?',\n 'Are you talking to me?',\n 'Are you ten years old?',\n 'Are you the new nanny?',\n 'Are you uncomfortable?',\n \"Aren't they Americans?\",\n 'At last, my turn came.',\n 'At last, we were home!',\n 'Bad news travels fast.',\n 'Bananas are delicious.',\n 'Be kind to old people.',\n 'Be quiet for a moment.',\n 'Bears can climb trees.',\n 'Berries can be frozen.',\n 'Better luck next time.',\n 'Beware of pickpockets.',\n 'Boston is a nice city.',\n 'Both claims are false.',\n 'Both of them survived.',\n 'Both stories are true.',\n 'Bring your student ID!',\n 'Brush your teeth well.',\n 'Buckle your seatbelts.',\n 'Business has improved.',\n 'Business is improving.',\n \"But Dad won't like it.\",\n 'Call it what you will.',\n 'Can I ask you a favor?',\n 'Can I borrow your pen?',\n 'Can I buy you a drink?',\n 'Can I eat this orange?',\n 'Can I give you a hand?',\n 'Can I give you a ride?',\n 'Can I go in there now?',\n 'Can I have some water?',\n 'Can I leave a message?',\n 'Can I open the window?',\n 'Can I see you outside?',\n 'Can I spend the night?',\n 'Can I turn off the TV?',\n 'Can he play the piano?',\n 'Can he speak Japanese?',\n 'Can his story be true?',\n 'Can somebody get that?',\n 'Can this news be true?',\n 'Can we lock this door?',\n 'Can we sit over there?',\n 'Can you call me later?',\n 'Can you describe them?',\n 'Can you die from fear?',\n 'Can you do that again?',\n 'Can you guess her age?',\n 'Can you identify that?',\n 'Can you identify this?',\n 'Can you keep a secret?',\n 'Can you loan me a pen?',\n 'Can you pay attention?',\n 'Can you remember that?',\n 'Can you squeeze me in?',\n 'Can you swim like Tom?',\n 'Can you take me there?',\n \"Can't we discuss this?\",\n \"Can't you just fix it?\",\n \"Cats don't like water.\",\n 'Children love to sing.',\n 'Children need to play.',\n 'Close all the windows.',\n 'Coffee keeps me awake.',\n 'Come here and help me.',\n 'Come here this minute.',\n \"Come on, let's try it.\",\n 'Come to lunch with us.',\n 'Come to watch us play.',\n 'Compasses point north.',\n 'Could we speak French?',\n 'Could you repeat that?',\n 'Count from one to ten.',\n 'Cover it with a plate.',\n 'Cut it with the knife.',\n 'Dancing is prohibited.',\n 'Did Tom go to college?',\n 'Did Tom listen to you?',\n 'Did anyone ask for me?',\n 'Did anyone call me up?',\n 'Did he do such things?',\n 'Did he go to see Mary?',\n 'Did he really do that?',\n 'Did he stay very long?',\n 'Did it rain all night?',\n 'Did she come with him?',\n 'Did you buy Tom a dog?',\n 'Did you buy this book?',\n 'Did you come by train?',\n 'Did you cut the paper?',\n 'Did you find anything?',\n 'Did you get my letter?',\n 'Did you get your wish?',\n 'Did you hear the news?',\n 'Did you know Tom well?',\n 'Did you know him well?',\n 'Did you lock the door?',\n 'Did you say something?',\n 'Did you see any birds?',\n 'Did you see my camera?',\n 'Did you see something?',\n 'Did you telephone him?',\n 'Did you use my camera?',\n \"Didn't I mention that?\",\n 'Do I need to go there?',\n 'Do it as you are told.',\n 'Do they know about us?',\n 'Do they live with you?',\n 'Do turtles have teeth?',\n 'Do we know each other?',\n 'Do you agree with Tom?',\n 'Do you also like jazz?',\n 'Do you believe in God?',\n 'Do you believe me now?',\n 'Do you enjoy studying?',\n 'Do you ever stay home?',\n 'Do you feel all right?',\n 'Do you find me pretty?',\n 'Do you fly frequently?',\n 'Do you go there often?',\n 'Do you have a bicycle?',\n 'Do you have a lighter?',\n 'Do you have a receipt?',\n 'Do you have any money?',\n 'Do you have earphones?',\n 'Do you have some milk?',\n 'Do you have some time?',\n 'Do you have the money?',\n 'Do you have to go now?',\n 'Do you have tuna fish?',\n 'Do you have two books?',\n 'Do you hear any sound?',\n 'Do you hear something?',\n 'Do you know this lady?',\n 'Do you know this song?',\n 'Do you know who he is?']"
     },
     "execution_count": 21,
     "metadata": {},
     "output_type": "execute_result"
    }
   ],
   "source": [
    "eng_phrases_subset"
   ],
   "metadata": {
    "collapsed": false,
    "ExecuteTime": {
     "end_time": "2023-07-18T03:50:08.219517500Z",
     "start_time": "2023-07-18T03:50:08.044490700Z"
    }
   }
  },
  {
   "cell_type": "code",
   "execution_count": 18,
   "outputs": [
    {
     "name": "stderr",
     "output_type": "stream",
     "text": [
      "C:\\Users\\Andrei\\anaconda3\\envs\\torchenv\\lib\\site-packages\\nltk\\translate\\bleu_score.py:516: UserWarning: \n",
      "The hypothesis contains 0 counts of 3-gram overlaps.\n",
      "Therefore the BLEU score evaluates to 0, independently of\n",
      "how many N-gram overlaps of lower order it contains.\n",
      "Consider using lower n-gram order or use SmoothingFunction()\n",
      "  warnings.warn(_msg)\n",
      "C:\\Users\\Andrei\\anaconda3\\envs\\torchenv\\lib\\site-packages\\nltk\\translate\\bleu_score.py:516: UserWarning: \n",
      "The hypothesis contains 0 counts of 4-gram overlaps.\n",
      "Therefore the BLEU score evaluates to 0, independently of\n",
      "how many N-gram overlaps of lower order it contains.\n",
      "Consider using lower n-gram order or use SmoothingFunction()\n",
      "  warnings.warn(_msg)\n",
      "C:\\Users\\Andrei\\anaconda3\\envs\\torchenv\\lib\\site-packages\\nltk\\translate\\bleu_score.py:516: UserWarning: \n",
      "The hypothesis contains 0 counts of 2-gram overlaps.\n",
      "Therefore the BLEU score evaluates to 0, independently of\n",
      "how many N-gram overlaps of lower order it contains.\n",
      "Consider using lower n-gram order or use SmoothingFunction()\n",
      "  warnings.warn(_msg)\n"
     ]
    }
   ],
   "source": [
    "scores = []\n",
    "for eng, pred in zip(eng_phrases_subset, translations):\n",
    "    matches = eng2spa_tokens[eng]\n",
    "\n",
    "    spa_pred = tokenizer.tokenize(pred['translation_text'].lower())\n",
    "\n",
    "    score = sentence_bleu(matches, spa_pred)\n",
    "    scores.append(score)"
   ],
   "metadata": {
    "collapsed": false,
    "ExecuteTime": {
     "end_time": "2023-07-18T03:49:39.912584500Z",
     "start_time": "2023-07-18T03:49:39.621413900Z"
    }
   }
  },
  {
   "cell_type": "code",
   "execution_count": 19,
   "outputs": [
    {
     "data": {
      "text/plain": "(array([649.,   0.,   0.,   0.,   0.,   0.,   0.,   0.,   0.,   0.,   0.,\n          0.,   0.,   0.,   0.,   0.,   0.,   0.,   0.,   0.,   1.,   0.,\n          0.,   1.,   0.,   1.,   2.,   2.,   3.,   0.,   0.,   0.,   0.,\n         16.,   0.,   0.,   0.,   3.,   7.,   0.,   2.,   0.,   0.,   0.,\n          0.,   0.,   0.,   0.,   0., 313.]),\n array([0.  , 0.02, 0.04, 0.06, 0.08, 0.1 , 0.12, 0.14, 0.16, 0.18, 0.2 ,\n        0.22, 0.24, 0.26, 0.28, 0.3 , 0.32, 0.34, 0.36, 0.38, 0.4 , 0.42,\n        0.44, 0.46, 0.48, 0.5 , 0.52, 0.54, 0.56, 0.58, 0.6 , 0.62, 0.64,\n        0.66, 0.68, 0.7 , 0.72, 0.74, 0.76, 0.78, 0.8 , 0.82, 0.84, 0.86,\n        0.88, 0.9 , 0.92, 0.94, 0.96, 0.98, 1.  ]),\n <BarContainer object of 50 artists>)"
     },
     "execution_count": 19,
     "metadata": {},
     "output_type": "execute_result"
    },
    {
     "data": {
      "text/plain": "<Figure size 640x480 with 1 Axes>",
      "image/png": "[encoded data removed]"
     },
     "metadata": {},
     "output_type": "display_data"
    }
   ],
   "source": [
    "import matplotlib.pyplot as plt\n",
    "plt.hist(scores, bins=50)"
   ],
   "metadata": {
    "collapsed": false,
    "ExecuteTime": {
     "end_time": "2023-07-18T03:49:41.311385400Z",
     "start_time": "2023-07-18T03:49:39.691866400Z"
    }
   }
  },
  {
   "cell_type": "code",
   "execution_count": 20,
   "outputs": [
    {
     "data": {
      "text/plain": "0.3383504014386889"
     },
     "execution_count": 20,
     "metadata": {},
     "output_type": "execute_result"
    }
   ],
   "source": [
    "import numpy as np\n",
    "np.mean(scores)"
   ],
   "metadata": {
    "collapsed": false,
    "ExecuteTime": {
     "end_time": "2023-07-18T03:49:41.421378800Z",
     "start_time": "2023-07-18T03:49:41.315393400Z"
    }
   }
  },
  {
   "cell_type": "code",
   "execution_count": 23,
   "outputs": [],
   "source": [
    "np.random.seed(1)\n",
    "\n",
    "def print_random_translation():\n",
    "    i = np.random.choice(len(eng_phrases_subset))\n",
    "    eng = eng_phrases_subset[i]\n",
    "    print(\"EN: \", eng)\n",
    "\n",
    "    translation = translations[i]['translation_text']\n",
    "    print(\"ES Translation: \", translation)\n",
    "\n",
    "    matches = eng2spa[eng]\n",
    "    print(\"Matches: \", matches)"
   ],
   "metadata": {
    "collapsed": false,
    "ExecuteTime": {
     "end_time": "2023-07-18T03:53:05.421105800Z",
     "start_time": "2023-07-18T03:53:05.380165800Z"
    }
   }
  },
  {
   "cell_type": "code",
   "execution_count": 24,
   "outputs": [
    {
     "name": "stdout",
     "output_type": "stream",
     "text": [
      "EN:  Tom isn't that young.\n",
      "ES Translation:  Tom no es tan joven.\n",
      "Matches:  ['Tom no es tan joven.']\n"
     ]
    }
   ],
   "source": [
    "print_random_translation()"
   ],
   "metadata": {
    "collapsed": false,
    "ExecuteTime": {
     "end_time": "2023-07-18T03:53:07.944969400Z",
     "start_time": "2023-07-18T03:53:07.920957300Z"
    }
   }
  },
  {
   "cell_type": "code",
   "execution_count": null,
   "outputs": [],
   "source": [],
   "metadata": {
    "collapsed": false
   }
  }
 ],
 "metadata": {
  "kernelspec": {
   "display_name": "Python 3",
   "language": "python",
   "name": "python3"
  },
  "language_info": {
   "codemirror_mode": {
    "name": "ipython",
    "version": 2
   },
   "file_extension": ".py",
   "mimetype": "text/x-python",
   "name": "python",
   "nbconvert_exporter": "python",
   "pygments_lexer": "ipython2",
   "version": "2.7.6"
  }
 },
 "nbformat": 4,
 "nbformat_minor": 0
}
